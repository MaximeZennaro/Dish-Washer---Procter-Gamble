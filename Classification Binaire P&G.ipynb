{
 "cells": [
  {
   "cell_type": "markdown",
   "metadata": {
    "_uuid": "bbd660b62cc616efa33651beedc49b86045b784d"
   },
   "source": [
    "## <font size=5> <strong> Groupe 4 - EI-2 DATA WEB - P\\&G  </strong> </font>"
   ]
  },
  {
   "cell_type": "markdown",
   "metadata": {},
   "source": [
    "* Sixtine Guerrand\n",
    "* Antoine Pagneux\n",
    "* Clément Lavenu\n",
    "* Hector Bonnefoi\n",
    "* Maxime Zennaro"
   ]
  },
  {
   "cell_type": "markdown",
   "metadata": {
    "_uuid": "e41ea25bec5928203cec544d0413fecd4b4e5555"
   },
   "source": [
    "## I. Importation des librairies"
   ]
  },
  {
   "cell_type": "code",
   "execution_count": 1,
   "metadata": {
    "_uuid": "f571f7e57c828d45fe55f6136fe8c2e796f74d4e"
   },
   "outputs": [
    {
     "name": "stdout",
     "output_type": "stream",
     "text": [
      "['.ipynb_checkpoints', 'Classification Binaire P&G.ipynb', 'data', 'Documents', 'README.md', 'requirements.txt']\n"
     ]
    }
   ],
   "source": [
    "import numpy as np\n",
    "import pandas as pd\n",
    "import matplotlib.pyplot as plt\n",
    "import seaborn as sns\n",
    "\n",
    "%matplotlib inline\n",
    "\n",
    "import os\n",
    "print(os.listdir())\n",
    "\n",
    "path=\"data/\""
   ]
  },
  {
   "cell_type": "markdown",
   "metadata": {
    "_uuid": "44e71221837f6fa60edc2c83b7492ddb019cc1cd"
   },
   "source": [
    "## II. Importation et compréhension des jeux de données"
   ]
  },
  {
   "cell_type": "code",
   "execution_count": 2,
   "metadata": {
    "_uuid": "2a1a1dae64ae3c934849b2b918bc7d68cd59e3f6",
    "scrolled": true
   },
   "outputs": [
    {
     "data": {
      "text/html": [
       "<div>\n",
       "<style scoped>\n",
       "    .dataframe tbody tr th:only-of-type {\n",
       "        vertical-align: middle;\n",
       "    }\n",
       "\n",
       "    .dataframe tbody tr th {\n",
       "        vertical-align: top;\n",
       "    }\n",
       "\n",
       "    .dataframe thead th {\n",
       "        text-align: right;\n",
       "    }\n",
       "</style>\n",
       "<table border=\"1\" class=\"dataframe\">\n",
       "  <thead>\n",
       "    <tr style=\"text-align: right;\">\n",
       "      <th></th>\n",
       "      <th>userId</th>\n",
       "      <th>age</th>\n",
       "      <th>gender</th>\n",
       "      <th>registrationDate</th>\n",
       "      <th>languageCode</th>\n",
       "      <th>countryCode</th>\n",
       "      <th>emailContactable</th>\n",
       "      <th>postalContactable</th>\n",
       "      <th>postalCode</th>\n",
       "      <th>numberChildren</th>\n",
       "      <th>...</th>\n",
       "      <th>detergentType</th>\n",
       "      <th>MrPropreTrier</th>\n",
       "      <th>AntikalTrier</th>\n",
       "      <th>ArielTrier</th>\n",
       "      <th>DashTrier</th>\n",
       "      <th>scentLover</th>\n",
       "      <th>petOwner</th>\n",
       "      <th>ecoInterest</th>\n",
       "      <th>closestShop</th>\n",
       "      <th>washDishes</th>\n",
       "    </tr>\n",
       "  </thead>\n",
       "  <tbody>\n",
       "    <tr>\n",
       "      <th>0</th>\n",
       "      <td>use_XbA1FTDcCrTMNTHK1851TzjyPMP</td>\n",
       "      <td>24.0</td>\n",
       "      <td>F</td>\n",
       "      <td>2019-10-14T17:33:37Z</td>\n",
       "      <td>fr</td>\n",
       "      <td>FRA</td>\n",
       "      <td>True</td>\n",
       "      <td>True</td>\n",
       "      <td>68540</td>\n",
       "      <td>1</td>\n",
       "      <td>...</td>\n",
       "      <td>Liquid</td>\n",
       "      <td>0</td>\n",
       "      <td>0</td>\n",
       "      <td>0</td>\n",
       "      <td>0</td>\n",
       "      <td>NonUser</td>\n",
       "      <td>Yes</td>\n",
       "      <td>0</td>\n",
       "      <td>0</td>\n",
       "      <td>Auto</td>\n",
       "    </tr>\n",
       "    <tr>\n",
       "      <th>1</th>\n",
       "      <td>use_3WHgsMVGSg5MHG2zja91TzdfmY2</td>\n",
       "      <td>67.0</td>\n",
       "      <td>F</td>\n",
       "      <td>2017-07-25T07:00:31Z</td>\n",
       "      <td>fr</td>\n",
       "      <td>FRA</td>\n",
       "      <td>True</td>\n",
       "      <td>True</td>\n",
       "      <td>17390</td>\n",
       "      <td>3</td>\n",
       "      <td>...</td>\n",
       "      <td>Pods</td>\n",
       "      <td>Known Trier</td>\n",
       "      <td>Known Trier</td>\n",
       "      <td>Known Trier</td>\n",
       "      <td>0</td>\n",
       "      <td>0</td>\n",
       "      <td>No</td>\n",
       "      <td>High</td>\n",
       "      <td>0</td>\n",
       "      <td>Auto</td>\n",
       "    </tr>\n",
       "    <tr>\n",
       "      <th>2</th>\n",
       "      <td>use_2SisOiR8QwDaHI4svm11TzcvK7V</td>\n",
       "      <td>45.0</td>\n",
       "      <td>F</td>\n",
       "      <td>2015-06-25T00:00:00Z</td>\n",
       "      <td>fr</td>\n",
       "      <td>FRA</td>\n",
       "      <td>True</td>\n",
       "      <td>True</td>\n",
       "      <td>30200</td>\n",
       "      <td>1</td>\n",
       "      <td>...</td>\n",
       "      <td>Liquid</td>\n",
       "      <td>0</td>\n",
       "      <td>0</td>\n",
       "      <td>Known Trier</td>\n",
       "      <td>Known Trier</td>\n",
       "      <td>NonUser</td>\n",
       "      <td>Yes</td>\n",
       "      <td>High</td>\n",
       "      <td>0</td>\n",
       "      <td>Auto</td>\n",
       "    </tr>\n",
       "    <tr>\n",
       "      <th>3</th>\n",
       "      <td>use_W0T1LmfKaQPJYD1RTWh1Tzdc69H</td>\n",
       "      <td>35.0</td>\n",
       "      <td>F</td>\n",
       "      <td>2018-01-31T07:24:39Z</td>\n",
       "      <td>fr</td>\n",
       "      <td>FRA</td>\n",
       "      <td>True</td>\n",
       "      <td>True</td>\n",
       "      <td>61400</td>\n",
       "      <td>2</td>\n",
       "      <td>...</td>\n",
       "      <td>Pods</td>\n",
       "      <td>0</td>\n",
       "      <td>0</td>\n",
       "      <td>Known Trier</td>\n",
       "      <td>Known Trier</td>\n",
       "      <td>Low</td>\n",
       "      <td>Yes</td>\n",
       "      <td>Medium</td>\n",
       "      <td>0</td>\n",
       "      <td>Hand</td>\n",
       "    </tr>\n",
       "    <tr>\n",
       "      <th>4</th>\n",
       "      <td>use_KwYWZ7UMl4veveOaPGK1TzddtmI</td>\n",
       "      <td>38.0</td>\n",
       "      <td>F</td>\n",
       "      <td>2016-01-26T11:42:17Z</td>\n",
       "      <td>fr</td>\n",
       "      <td>FRA</td>\n",
       "      <td>True</td>\n",
       "      <td>True</td>\n",
       "      <td>30620</td>\n",
       "      <td>0</td>\n",
       "      <td>...</td>\n",
       "      <td>Liquid</td>\n",
       "      <td>Known Trier</td>\n",
       "      <td>Known Trier</td>\n",
       "      <td>Known Trier</td>\n",
       "      <td>Known Trier</td>\n",
       "      <td>0</td>\n",
       "      <td>Yes</td>\n",
       "      <td>Low</td>\n",
       "      <td>0</td>\n",
       "      <td>Hand</td>\n",
       "    </tr>\n",
       "  </tbody>\n",
       "</table>\n",
       "<p>5 rows × 23 columns</p>\n",
       "</div>"
      ],
      "text/plain": [
       "                            userId   age gender      registrationDate  \\\n",
       "0  use_XbA1FTDcCrTMNTHK1851TzjyPMP  24.0      F  2019-10-14T17:33:37Z   \n",
       "1  use_3WHgsMVGSg5MHG2zja91TzdfmY2  67.0      F  2017-07-25T07:00:31Z   \n",
       "2  use_2SisOiR8QwDaHI4svm11TzcvK7V  45.0      F  2015-06-25T00:00:00Z   \n",
       "3  use_W0T1LmfKaQPJYD1RTWh1Tzdc69H  35.0      F  2018-01-31T07:24:39Z   \n",
       "4  use_KwYWZ7UMl4veveOaPGK1TzddtmI  38.0      F  2016-01-26T11:42:17Z   \n",
       "\n",
       "  languageCode countryCode emailContactable postalContactable postalCode  \\\n",
       "0           fr         FRA             True              True      68540   \n",
       "1           fr         FRA             True              True      17390   \n",
       "2           fr         FRA             True              True      30200   \n",
       "3           fr         FRA             True              True      61400   \n",
       "4           fr         FRA             True              True      30620   \n",
       "\n",
       "  numberChildren  ... detergentType MrPropreTrier AntikalTrier   ArielTrier  \\\n",
       "0              1  ...        Liquid             0            0            0   \n",
       "1              3  ...          Pods   Known Trier  Known Trier  Known Trier   \n",
       "2              1  ...        Liquid             0            0  Known Trier   \n",
       "3              2  ...          Pods             0            0  Known Trier   \n",
       "4              0  ...        Liquid   Known Trier  Known Trier  Known Trier   \n",
       "\n",
       "     DashTrier scentLover petOwner ecoInterest closestShop washDishes  \n",
       "0            0    NonUser      Yes           0           0       Auto  \n",
       "1            0          0       No        High           0       Auto  \n",
       "2  Known Trier    NonUser      Yes        High           0       Auto  \n",
       "3  Known Trier        Low      Yes      Medium           0       Hand  \n",
       "4  Known Trier          0      Yes         Low           0       Hand  \n",
       "\n",
       "[5 rows x 23 columns]"
      ]
     },
     "execution_count": 2,
     "metadata": {},
     "output_type": "execute_result"
    }
   ],
   "source": [
    "\n",
    "def importation(filename):\n",
    "    \"\"\" \n",
    "    Cette fontion permet d'importer et lire les différents fichiers .csv contenant les datasets\n",
    "    :input: csv_file\n",
    "        un dataset fourni\n",
    "    :output: dataframe\n",
    "        une représentation en tableau (dataframe) du dataset\n",
    "    \"\"\"\n",
    "    return pd.read_csv(path+filename, sep=\",\")\n",
    "\n",
    "#dataframe de soumission\n",
    "sub_sample = importation(\"DS_Centrale_submission_sample.csv\")\n",
    "\n",
    "#dataframe de \"actions des consommateurs\"\n",
    "cons_actions = importation(\"DS_CentraleSupelec_consumeractions.csv\")\n",
    "\n",
    "#dataframe des données à tester\n",
    "test = importation(\"DS_CentraleSupelec_test.csv\").fillna(0)\n",
    "\n",
    "#dataframe des données d'entrainement\n",
    "train = importation(\"DS_CentraleSupelec_train.csv\").fillna(0)\n",
    "\n",
    "#dataframe sur la dureté de l'eau en fonction du département (échelle : 1: eau douce,...,4:eau très dure)\n",
    "df_dure = pd.read_csv(path+\"eauxdures.csv\",sep=\";\")\n",
    "\n",
    "train.head()"
   ]
  },
  {
   "cell_type": "code",
   "execution_count": 3,
   "metadata": {},
   "outputs": [],
   "source": [
    "def score_event(event):\n",
    "    \"\"\"\n",
    "    Cette fonction permet de mettre un score sur les différents types \n",
    "    d'évenement que l'on peut retrouver dans le dataset 'consumeractions'\n",
    "    :input: str\n",
    "        un évenement (email open, email clicked...)\n",
    "    :output: int\n",
    "        un score compris entre 1 et 7 associé à l'évenement\n",
    "    \"\"\"\n",
    "    s=0\n",
    "    tokens=event.split()\n",
    "    if \"Email\" in tokens:\n",
    "        if \"Opened\" in tokens:\n",
    "            s=1\n",
    "        #email clicked\n",
    "        else:\n",
    "            s=2\n",
    "    if \"Product\" in tokens: #Product Reviewed\n",
    "        s=3\n",
    "    if \"Search\" in tokens: #Search site\n",
    "        s=4\n",
    "    if \"Coupon\" in tokens:\n",
    "        if \"Request\" in tokens:\n",
    "            if \"Print\" in tokens:\n",
    "                s=6\n",
    "            #Request Coupon Add-to-basket\n",
    "            else:\n",
    "                s=5\n",
    "        else:\n",
    "            s=7\n",
    "    return s"
   ]
  },
  {
   "cell_type": "code",
   "execution_count": 4,
   "metadata": {},
   "outputs": [],
   "source": [
    "def postal_code_rank(df):\n",
    "    \"\"\"\n",
    "    Cette fonction permet de regrouper les villes d'un même département (via leur code posta)\n",
    "    et classer ensuite les départements en fonction de leur fréquence d'appairtion dans les datasets\n",
    "    :input: dataframe\n",
    "        le dataframe avec la colonne 'postalCode'\n",
    "    :output: list\n",
    "        une liste avec les départements classés et leur fréquence associée (liste de tuples)\n",
    "    \"\"\"\n",
    "    dic_CP={}\n",
    "            \n",
    "    for j in range(len(df)):\n",
    "        cp=df.iloc[j]['postalCode']\n",
    "        if cp==\"Nimes\":\n",
    "            dep=30\n",
    "        else:\n",
    "            dep=int(float(str(cp)[:2]))\n",
    "            \n",
    "        if dep in dic_CP:\n",
    "            dic_CP[dep]+=1\n",
    "        else:\n",
    "            dic_CP[dep]=0\n",
    "    \n",
    "    return dic_CP"
   ]
  },
  {
   "cell_type": "code",
   "execution_count": 5,
   "metadata": {},
   "outputs": [],
   "source": [
    "#mots clés associés au lave-vaisselle\n",
    "key_words=['Fairy','PEPS','Platinum+']"
   ]
  },
  {
   "cell_type": "code",
   "execution_count": 22,
   "metadata": {},
   "outputs": [],
   "source": [
    "\n",
    "# N.B : Cette fonction peut prendre 5-10 minutes pour calculer du fait du croisement avec le dataset 'consumeractions' \n",
    "# qui fait près de 1 millions de lignes pour les événements \n",
    "\n",
    "def clean_df_to_num(df_train,df_cons_act,data_type,filename,added_filters):\n",
    "    \"\"\"\n",
    "    Cette fonction permet de générer un dataframe avec des données numériques \n",
    "    en appliquant différentes métriques pour chaque feature\n",
    "    :input: dataframe, dataframe, str\n",
    "        nous avons comme entrées, le dataframe à transformer numériquemement, le dataset 'consumeractions' \n",
    "        et savoir il s'agit de données d'entrainement ou de tests. Cette dernière options sert à juste nous dire \n",
    "        si on doit laisser la colonne 'washDishes' ou pas (dans le cas du dataset de test on l'enlève)\n",
    "    :output: dataframe\n",
    "        un score compris entre 1 et 7 associé à l'évenement\n",
    "    \"\"\"\n",
    "\n",
    "    df_num=df_train[['age']]\n",
    "\n",
    "    filters=['languageCode','countryCode','lastActivityDate','closestShop','registrationDate','detergentType']\n",
    "\n",
    "    feature_names=df_train.keys()[1:]\n",
    "    # print(feature_names)\n",
    "    for col in feature_names:\n",
    "        if str(col) not in filters:\n",
    "            df_num[col]=0\n",
    "    for coll in ['liquidDetergent','podsDetergent','powderDetergent','pc_score','postalScore']:\n",
    "        df_num[coll]=0\n",
    "    \n",
    "    #création de moyenne d'âge\n",
    "    for i in range(len(df_train)):\n",
    "        value=df_train.iloc[i]['age']\n",
    "        if 10<=value<20:\n",
    "            value=15\n",
    "        if 20<=value<30:\n",
    "            value=25\n",
    "        if 30<=value<40:\n",
    "            value=35\n",
    "        if 40<=value<50:\n",
    "            value=45\n",
    "        if 50<=value<60:\n",
    "            value=55\n",
    "        if 60<=value<70:\n",
    "            value=65\n",
    "        if 70<=value<80:\n",
    "            value=75\n",
    "        if 80<=value<=90:\n",
    "            value=85\n",
    "        df_num.at[i,'age']=value\n",
    "    \n",
    "    df_num['score_event']=0\n",
    "    \n",
    "    #on garde la variable explicative pour l'entrainement\n",
    "    if data_type==\"training\":\n",
    "        df_num.loc[df_train.washDishes==\"Auto\",'washDishes']=1\n",
    "\n",
    "    #on affecte nos métriques (binaire, échelle d'intensité de 1 à 4 ...)\n",
    "    \n",
    "    df_num.loc[df_train.gender==\"F\",'gender']=1\n",
    "    df_num.loc[df_train.gender==\"M\",'gender']=0\n",
    "\n",
    "\n",
    "    df_num.loc[df_train.ecoInterest==\"Low\",'ecoInterest']=1\n",
    "    df_num.loc[df_train.ecoInterest==\"Medium\",'ecoInterest']=2\n",
    "    df_num.loc[df_train.ecoInterest==\"High\",'ecoInterest']=3\n",
    "    df_num.loc[df_train.ecoInterest==\"Very high\",'ecoInterest']=4\n",
    "\n",
    "\n",
    "    df_num.loc[df_train.petOwner==\"Yes\",'petOwner']=1\n",
    "\n",
    "\n",
    "    df_num.loc[df_train.MrPropreTrier==\"Known Trier\",'MrPropreTrier']=1\n",
    "    df_num.loc[df_train.AntikalTrier==\"Known Trier\",'AntikalTrier']=1\n",
    "    df_num.loc[df_train.ArielTrier==\"Known Trier\",'ArielTrier']=1\n",
    "    df_num.loc[train.DashTrier==\"Known Trier\",'DashTrier']=1\n",
    "\n",
    "\n",
    "    df_num.loc[df_train.toothBrushType==\"Manual\",'toothBrushType']=0\n",
    "    df_num.loc[df_train.toothBrushType==\"Electric\",'toothBrushType']=1\n",
    "\n",
    "\n",
    "    df_num.loc[df_train.emailContactable==True,'emailContactable']=1\n",
    "    df_num.loc[df_train.postalContactable==True,'postalContactable']=1\n",
    "\n",
    "\n",
    "    for i in range(17):\n",
    "        \n",
    "        if i < 5:\n",
    "            df_num.loc[df_train.numberChildren==str(i),'numberChildren']=i\n",
    "\n",
    "        else:\n",
    "            df_num.loc[df_train.numberChildren==str(i),'numberChildren']=5\n",
    "\n",
    "            \n",
    "    df_num.loc[df_train.numberChildren==\"4+\",'numberChildren']=5\n",
    "    df_num['numberChildren'] = pd.to_numeric(df_num['numberChildren'])\n",
    "\n",
    "    \n",
    "    df_num.loc[df_train.reactivationValue==\"Lapsed\",'reactivationValue']=3\n",
    "    df_num.loc[df_train.reactivationValue==\"Lapsing\",'reactivationValue']=2\n",
    "    df_num.loc[df_train.reactivationValue==\"Dormant\",'reactivationValue']=1\n",
    "    df_num.loc[df_train.reactivationValue==\"Active\",'reactivationValue']=4\n",
    "\n",
    "\n",
    "    df_num.loc[df_train.scentLover==\"NonUser\",'scentLover']=0\n",
    "    df_num.loc[df_train.scentLover==\"Low\",'scentLover']=1\n",
    "    df_num.loc[df_train.scentLover==\"Medium\",'scentLover']=2\n",
    "    df_num.loc[df_train.scentLover==\"High\",'scentLover']=3\n",
    "\n",
    "\n",
    "\n",
    "    for j in range(len(df_train)):\n",
    "        cp=str(df_train.iloc[j]['postalCode'])\n",
    "        \n",
    "        # cas ou trouve le nom d'une ville dans code postal\n",
    "        if cp==\"Nimes\":\n",
    "            dep=30\n",
    "        else:\n",
    "            #département à un chiffre\n",
    "            if len(cp)==4:\n",
    "                dep=int(str(cp)[0])\n",
    "            else:\n",
    "                dep=int(str(cp)[:2])\n",
    "            \n",
    "            \n",
    "        df_num.at[j,'postalCode']=dep\n",
    "     \n",
    "    \n",
    "    dic_rank=postal_code_rank(df_num)\n",
    "    \n",
    "    for key in dic_rank:\n",
    "        df_num.loc[df_num.postalCode==key,'postalScore']=dic_rank[key]\n",
    "        \n",
    "    \n",
    "    \n",
    "    # création de la colonne de la dureté de l'eau (new feature) en fonction du département\n",
    "    for i in range(len(df_num)):\n",
    "        \n",
    "        dep=str(df_num[\"postalCode\"][i])\n",
    "\n",
    "        try:\n",
    "            df_num['pc_score'][i]=df_dure[df_dure['Département']==dep].iloc[0]['Dureté']\n",
    "        except:\n",
    "            df_num['pc_score'][i]=0\n",
    "    \n",
    "    #on crée 3 colonnes différentes pour chaque type de détergents et on applique une métrique binaire\n",
    "    for i in range(len(df_train)):\n",
    "        value=df_train.iloc[i]['detergentType']\n",
    "        if value!=0:\n",
    "            value1=value.split(',')\n",
    "\n",
    "            val_pods=0\n",
    "            val_liq=0\n",
    "            val_powd=0\n",
    "\n",
    "            if 'Pods' in value1:\n",
    "                val_pods=1\n",
    "            if 'Liquid' in value1:\n",
    "                val_liq=1\n",
    "            if 'Powder' in value1:\n",
    "                val_powd=1\n",
    "                \n",
    "            df_num.at[i,'liquidDetergent']=val_liq\n",
    "            df_num.at[i,'podsDetergent']=val_pods\n",
    "            df_num.at[i,'powderDetergent']=val_powd\n",
    "            \n",
    "            \n",
    "    ## on rajoute une feature du dataset 'consumeractions'\n",
    "    \n",
    "    liste_userID=df_train['userId'].unique()\n",
    "    dic_events={}\n",
    "    \n",
    "    for userId in liste_userID:\n",
    "        dic_events[userId]=0\n",
    "        \n",
    "    df=df_cons_act    \n",
    "    \n",
    "    # on regarde si nous avons des mots clés sur les laves-vaisselles (les key-words plus haut) ject line'\n",
    "    # et on regarde les évènements associés puis on attribut un score global par utilisateur\n",
    "    for i in range(len(df)): \n",
    "        bd=df.iloc[i]['brandName']\n",
    "        subject=df.iloc[i]['subjectLine']\n",
    "        \n",
    "        status=False\n",
    "        try:\n",
    "            if any(word in bd.split() for word in key_words) :\n",
    "                status=True\n",
    "        except:\n",
    "            None\n",
    "        try:\n",
    "            if any(word in subject.split() for word in key_words):\n",
    "                status=True\n",
    "        except:\n",
    "            None\n",
    "        if status==True:\n",
    "            try:\n",
    "                dic_events[df.iloc[i]['userId']] += score_event(df.iloc[i]['event'])      \n",
    "                \n",
    "            except:\n",
    "                None\n",
    "         \n",
    "    for i in range(len(df_num)):\n",
    "        \n",
    "        keyID=df_train.iloc[i]['userId']\n",
    "        if keyID in dic_events:\n",
    "            df_num.at[i,'score_event']=dic_events[keyID]\n",
    "    \n",
    "    \n",
    "    f = open(filename, 'r+')\n",
    "    f.truncate(0)\n",
    "    df_num.drop(added_filters,axis=1).to_csv(filename)\n"
   ]
  },
  {
   "cell_type": "code",
   "execution_count": 7,
   "metadata": {},
   "outputs": [
    {
     "name": "stderr",
     "output_type": "stream",
     "text": [
      "<ipython-input-6-021a333ebf36>:24: SettingWithCopyWarning: \n",
      "A value is trying to be set on a copy of a slice from a DataFrame.\n",
      "Try using .loc[row_indexer,col_indexer] = value instead\n",
      "\n",
      "See the caveats in the documentation: https://pandas.pydata.org/pandas-docs/stable/user_guide/indexing.html#returning-a-view-versus-a-copy\n",
      "  df_num[col]=0\n",
      "<ipython-input-6-021a333ebf36>:26: SettingWithCopyWarning: \n",
      "A value is trying to be set on a copy of a slice from a DataFrame.\n",
      "Try using .loc[row_indexer,col_indexer] = value instead\n",
      "\n",
      "See the caveats in the documentation: https://pandas.pydata.org/pandas-docs/stable/user_guide/indexing.html#returning-a-view-versus-a-copy\n",
      "  df_num[coll]=0\n",
      "<ipython-input-6-021a333ebf36>:49: SettingWithCopyWarning: \n",
      "A value is trying to be set on a copy of a slice from a DataFrame.\n",
      "Try using .loc[row_indexer,col_indexer] = value instead\n",
      "\n",
      "See the caveats in the documentation: https://pandas.pydata.org/pandas-docs/stable/user_guide/indexing.html#returning-a-view-versus-a-copy\n",
      "  df_num['score_event']=0\n",
      "D:\\anaconda\\lib\\site-packages\\pandas\\core\\indexing.py:671: SettingWithCopyWarning: \n",
      "A value is trying to be set on a copy of a slice from a DataFrame\n",
      "\n",
      "See the caveats in the documentation: https://pandas.pydata.org/pandas-docs/stable/user_guide/indexing.html#returning-a-view-versus-a-copy\n",
      "  self._setitem_with_indexer(indexer, value)\n",
      "<ipython-input-6-021a333ebf36>:53: SettingWithCopyWarning: \n",
      "A value is trying to be set on a copy of a slice from a DataFrame\n",
      "\n",
      "See the caveats in the documentation: https://pandas.pydata.org/pandas-docs/stable/user_guide/indexing.html#returning-a-view-versus-a-copy\n",
      "  df_num.loc[df_train.washDishes==\"Auto\",'washDishes']=1\n",
      "<ipython-input-6-021a333ebf36>:57: SettingWithCopyWarning: \n",
      "A value is trying to be set on a copy of a slice from a DataFrame\n",
      "\n",
      "See the caveats in the documentation: https://pandas.pydata.org/pandas-docs/stable/user_guide/indexing.html#returning-a-view-versus-a-copy\n",
      "  df_num.loc[df_train.gender==\"F\",'gender']=1\n",
      "<ipython-input-6-021a333ebf36>:58: SettingWithCopyWarning: \n",
      "A value is trying to be set on a copy of a slice from a DataFrame\n",
      "\n",
      "See the caveats in the documentation: https://pandas.pydata.org/pandas-docs/stable/user_guide/indexing.html#returning-a-view-versus-a-copy\n",
      "  df_num.loc[df_train.gender==\"M\",'gender']=0\n",
      "<ipython-input-6-021a333ebf36>:61: SettingWithCopyWarning: \n",
      "A value is trying to be set on a copy of a slice from a DataFrame\n",
      "\n",
      "See the caveats in the documentation: https://pandas.pydata.org/pandas-docs/stable/user_guide/indexing.html#returning-a-view-versus-a-copy\n",
      "  df_num.loc[df_train.ecoInterest==\"Low\",'ecoInterest']=1\n",
      "<ipython-input-6-021a333ebf36>:62: SettingWithCopyWarning: \n",
      "A value is trying to be set on a copy of a slice from a DataFrame\n",
      "\n",
      "See the caveats in the documentation: https://pandas.pydata.org/pandas-docs/stable/user_guide/indexing.html#returning-a-view-versus-a-copy\n",
      "  df_num.loc[df_train.ecoInterest==\"Medium\",'ecoInterest']=2\n",
      "<ipython-input-6-021a333ebf36>:63: SettingWithCopyWarning: \n",
      "A value is trying to be set on a copy of a slice from a DataFrame\n",
      "\n",
      "See the caveats in the documentation: https://pandas.pydata.org/pandas-docs/stable/user_guide/indexing.html#returning-a-view-versus-a-copy\n",
      "  df_num.loc[df_train.ecoInterest==\"High\",'ecoInterest']=3\n",
      "<ipython-input-6-021a333ebf36>:64: SettingWithCopyWarning: \n",
      "A value is trying to be set on a copy of a slice from a DataFrame\n",
      "\n",
      "See the caveats in the documentation: https://pandas.pydata.org/pandas-docs/stable/user_guide/indexing.html#returning-a-view-versus-a-copy\n",
      "  df_num.loc[df_train.ecoInterest==\"Very high\",'ecoInterest']=4\n",
      "<ipython-input-6-021a333ebf36>:67: SettingWithCopyWarning: \n",
      "A value is trying to be set on a copy of a slice from a DataFrame\n",
      "\n",
      "See the caveats in the documentation: https://pandas.pydata.org/pandas-docs/stable/user_guide/indexing.html#returning-a-view-versus-a-copy\n",
      "  df_num.loc[df_train.petOwner==\"Yes\",'petOwner']=1\n",
      "<ipython-input-6-021a333ebf36>:70: SettingWithCopyWarning: \n",
      "A value is trying to be set on a copy of a slice from a DataFrame\n",
      "\n",
      "See the caveats in the documentation: https://pandas.pydata.org/pandas-docs/stable/user_guide/indexing.html#returning-a-view-versus-a-copy\n",
      "  df_num.loc[df_train.MrPropreTrier==\"Known Trier\",'MrPropreTrier']=1\n",
      "<ipython-input-6-021a333ebf36>:71: SettingWithCopyWarning: \n",
      "A value is trying to be set on a copy of a slice from a DataFrame\n",
      "\n",
      "See the caveats in the documentation: https://pandas.pydata.org/pandas-docs/stable/user_guide/indexing.html#returning-a-view-versus-a-copy\n",
      "  df_num.loc[df_train.AntikalTrier==\"Known Trier\",'AntikalTrier']=1\n",
      "<ipython-input-6-021a333ebf36>:72: SettingWithCopyWarning: \n",
      "A value is trying to be set on a copy of a slice from a DataFrame\n",
      "\n",
      "See the caveats in the documentation: https://pandas.pydata.org/pandas-docs/stable/user_guide/indexing.html#returning-a-view-versus-a-copy\n",
      "  df_num.loc[df_train.ArielTrier==\"Known Trier\",'ArielTrier']=1\n",
      "<ipython-input-6-021a333ebf36>:73: SettingWithCopyWarning: \n",
      "A value is trying to be set on a copy of a slice from a DataFrame\n",
      "\n",
      "See the caveats in the documentation: https://pandas.pydata.org/pandas-docs/stable/user_guide/indexing.html#returning-a-view-versus-a-copy\n",
      "  df_num.loc[train.DashTrier==\"Known Trier\",'DashTrier']=1\n",
      "<ipython-input-6-021a333ebf36>:76: SettingWithCopyWarning: \n",
      "A value is trying to be set on a copy of a slice from a DataFrame\n",
      "\n",
      "See the caveats in the documentation: https://pandas.pydata.org/pandas-docs/stable/user_guide/indexing.html#returning-a-view-versus-a-copy\n",
      "  df_num.loc[df_train.toothBrushType==\"Manual\",'toothBrushType']=0\n",
      "<ipython-input-6-021a333ebf36>:77: SettingWithCopyWarning: \n",
      "A value is trying to be set on a copy of a slice from a DataFrame\n",
      "\n",
      "See the caveats in the documentation: https://pandas.pydata.org/pandas-docs/stable/user_guide/indexing.html#returning-a-view-versus-a-copy\n",
      "  df_num.loc[df_train.toothBrushType==\"Electric\",'toothBrushType']=1\n",
      "<ipython-input-6-021a333ebf36>:80: SettingWithCopyWarning: \n",
      "A value is trying to be set on a copy of a slice from a DataFrame\n",
      "\n",
      "See the caveats in the documentation: https://pandas.pydata.org/pandas-docs/stable/user_guide/indexing.html#returning-a-view-versus-a-copy\n",
      "  df_num.loc[df_train.emailContactable==True,'emailContactable']=1\n",
      "<ipython-input-6-021a333ebf36>:81: SettingWithCopyWarning: \n",
      "A value is trying to be set on a copy of a slice from a DataFrame\n",
      "\n",
      "See the caveats in the documentation: https://pandas.pydata.org/pandas-docs/stable/user_guide/indexing.html#returning-a-view-versus-a-copy\n",
      "  df_num.loc[df_train.postalContactable==True,'postalContactable']=1\n",
      "<ipython-input-6-021a333ebf36>:87: SettingWithCopyWarning: \n",
      "A value is trying to be set on a copy of a slice from a DataFrame\n",
      "\n",
      "See the caveats in the documentation: https://pandas.pydata.org/pandas-docs/stable/user_guide/indexing.html#returning-a-view-versus-a-copy\n",
      "  df_num.loc[df_train.numberChildren==str(i),'numberChildren']=i\n",
      "<ipython-input-6-021a333ebf36>:90: SettingWithCopyWarning: \n",
      "A value is trying to be set on a copy of a slice from a DataFrame\n",
      "\n",
      "See the caveats in the documentation: https://pandas.pydata.org/pandas-docs/stable/user_guide/indexing.html#returning-a-view-versus-a-copy\n",
      "  df_num.loc[df_train.numberChildren==str(i),'numberChildren']=5\n",
      "<ipython-input-6-021a333ebf36>:93: SettingWithCopyWarning: \n",
      "A value is trying to be set on a copy of a slice from a DataFrame\n",
      "\n",
      "See the caveats in the documentation: https://pandas.pydata.org/pandas-docs/stable/user_guide/indexing.html#returning-a-view-versus-a-copy\n",
      "  df_num.loc[df_train.numberChildren==\"4+\",'numberChildren']=5\n",
      "<ipython-input-6-021a333ebf36>:94: SettingWithCopyWarning: \n",
      "A value is trying to be set on a copy of a slice from a DataFrame.\n",
      "Try using .loc[row_indexer,col_indexer] = value instead\n",
      "\n",
      "See the caveats in the documentation: https://pandas.pydata.org/pandas-docs/stable/user_guide/indexing.html#returning-a-view-versus-a-copy\n",
      "  df_num['numberChildren'] = pd.to_numeric(df_num['numberChildren'])\n",
      "<ipython-input-6-021a333ebf36>:97: SettingWithCopyWarning: \n",
      "A value is trying to be set on a copy of a slice from a DataFrame\n",
      "\n",
      "See the caveats in the documentation: https://pandas.pydata.org/pandas-docs/stable/user_guide/indexing.html#returning-a-view-versus-a-copy\n",
      "  df_num.loc[df_train.reactivationValue==\"Lapsed\",'reactivationValue']=3\n",
      "<ipython-input-6-021a333ebf36>:98: SettingWithCopyWarning: \n",
      "A value is trying to be set on a copy of a slice from a DataFrame\n",
      "\n",
      "See the caveats in the documentation: https://pandas.pydata.org/pandas-docs/stable/user_guide/indexing.html#returning-a-view-versus-a-copy\n",
      "  df_num.loc[df_train.reactivationValue==\"Lapsing\",'reactivationValue']=2\n",
      "<ipython-input-6-021a333ebf36>:99: SettingWithCopyWarning: \n",
      "A value is trying to be set on a copy of a slice from a DataFrame\n",
      "\n",
      "See the caveats in the documentation: https://pandas.pydata.org/pandas-docs/stable/user_guide/indexing.html#returning-a-view-versus-a-copy\n",
      "  df_num.loc[df_train.reactivationValue==\"Dormant\",'reactivationValue']=1\n",
      "<ipython-input-6-021a333ebf36>:100: SettingWithCopyWarning: \n",
      "A value is trying to be set on a copy of a slice from a DataFrame\n",
      "\n",
      "See the caveats in the documentation: https://pandas.pydata.org/pandas-docs/stable/user_guide/indexing.html#returning-a-view-versus-a-copy\n",
      "  df_num.loc[df_train.reactivationValue==\"Active\",'reactivationValue']=4\n",
      "<ipython-input-6-021a333ebf36>:103: SettingWithCopyWarning: \n",
      "A value is trying to be set on a copy of a slice from a DataFrame\n",
      "\n",
      "See the caveats in the documentation: https://pandas.pydata.org/pandas-docs/stable/user_guide/indexing.html#returning-a-view-versus-a-copy\n",
      "  df_num.loc[df_train.scentLover==\"NonUser\",'scentLover']=0\n",
      "<ipython-input-6-021a333ebf36>:104: SettingWithCopyWarning: \n",
      "A value is trying to be set on a copy of a slice from a DataFrame\n",
      "\n",
      "See the caveats in the documentation: https://pandas.pydata.org/pandas-docs/stable/user_guide/indexing.html#returning-a-view-versus-a-copy\n",
      "  df_num.loc[df_train.scentLover==\"Low\",'scentLover']=1\n",
      "<ipython-input-6-021a333ebf36>:105: SettingWithCopyWarning: \n",
      "A value is trying to be set on a copy of a slice from a DataFrame\n",
      "\n",
      "See the caveats in the documentation: https://pandas.pydata.org/pandas-docs/stable/user_guide/indexing.html#returning-a-view-versus-a-copy\n",
      "  df_num.loc[df_train.scentLover==\"Medium\",'scentLover']=2\n",
      "<ipython-input-6-021a333ebf36>:106: SettingWithCopyWarning: \n",
      "A value is trying to be set on a copy of a slice from a DataFrame\n",
      "\n",
      "See the caveats in the documentation: https://pandas.pydata.org/pandas-docs/stable/user_guide/indexing.html#returning-a-view-versus-a-copy\n",
      "  df_num.loc[df_train.scentLover==\"High\",'scentLover']=3\n"
     ]
    },
    {
     "name": "stderr",
     "output_type": "stream",
     "text": [
      "<ipython-input-6-021a333ebf36>:130: SettingWithCopyWarning: \n",
      "A value is trying to be set on a copy of a slice from a DataFrame\n",
      "\n",
      "See the caveats in the documentation: https://pandas.pydata.org/pandas-docs/stable/user_guide/indexing.html#returning-a-view-versus-a-copy\n",
      "  df_num.loc[df_num.postalCode==key,'postalScore']=dic_rank[key]\n",
      "<ipython-input-7-9470a7187ab9>:5: SettingWithCopyWarning: \n",
      "A value is trying to be set on a copy of a slice from a DataFrame\n",
      "\n",
      "See the caveats in the documentation: https://pandas.pydata.org/pandas-docs/stable/user_guide/indexing.html#returning-a-view-versus-a-copy\n",
      "  clean_df_to_num(train,cons_actions,\"training\",path+'DS_num_train.csv',[])\n"
     ]
    }
   ],
   "source": [
    "##### N.B1 : N'exécuter cette cellule que s'ils faut mettre à jour le dataset d'entrainement    #####\n",
    "# par exemple, s'il y a eu un changement de métrique, une feature rajoutée...\n",
    "# Exécuter uniquement la cellule suivante qui va importer le dataset numérique générée par la cellule actuelle\n",
    "\n",
    "clean_df_to_num(train,cons_actions,\"training\",path+'DS_num_train.csv',[])"
   ]
  },
  {
   "cell_type": "code",
   "execution_count": 7,
   "metadata": {},
   "outputs": [
    {
     "data": {
      "text/html": [
       "<div>\n",
       "<style scoped>\n",
       "    .dataframe tbody tr th:only-of-type {\n",
       "        vertical-align: middle;\n",
       "    }\n",
       "\n",
       "    .dataframe tbody tr th {\n",
       "        vertical-align: top;\n",
       "    }\n",
       "\n",
       "    .dataframe thead th {\n",
       "        text-align: right;\n",
       "    }\n",
       "</style>\n",
       "<table border=\"1\" class=\"dataframe\">\n",
       "  <thead>\n",
       "    <tr style=\"text-align: right;\">\n",
       "      <th></th>\n",
       "      <th>Unnamed: 0</th>\n",
       "      <th>age</th>\n",
       "      <th>gender</th>\n",
       "      <th>emailContactable</th>\n",
       "      <th>postalContactable</th>\n",
       "      <th>postalCode</th>\n",
       "      <th>numberChildren</th>\n",
       "      <th>reactivationValue</th>\n",
       "      <th>toothBrushType</th>\n",
       "      <th>MrPropreTrier</th>\n",
       "      <th>...</th>\n",
       "      <th>scentLover</th>\n",
       "      <th>petOwner</th>\n",
       "      <th>ecoInterest</th>\n",
       "      <th>washDishes</th>\n",
       "      <th>liquidDetergent</th>\n",
       "      <th>podsDetergent</th>\n",
       "      <th>powderDetergent</th>\n",
       "      <th>pc_score</th>\n",
       "      <th>postalScore</th>\n",
       "      <th>score_event</th>\n",
       "    </tr>\n",
       "  </thead>\n",
       "  <tbody>\n",
       "    <tr>\n",
       "      <th>0</th>\n",
       "      <td>0</td>\n",
       "      <td>25</td>\n",
       "      <td>1</td>\n",
       "      <td>1</td>\n",
       "      <td>1</td>\n",
       "      <td>68</td>\n",
       "      <td>1</td>\n",
       "      <td>2</td>\n",
       "      <td>0</td>\n",
       "      <td>0</td>\n",
       "      <td>...</td>\n",
       "      <td>0</td>\n",
       "      <td>1</td>\n",
       "      <td>0</td>\n",
       "      <td>1</td>\n",
       "      <td>1</td>\n",
       "      <td>0</td>\n",
       "      <td>0</td>\n",
       "      <td>2</td>\n",
       "      <td>113</td>\n",
       "      <td>0</td>\n",
       "    </tr>\n",
       "    <tr>\n",
       "      <th>1</th>\n",
       "      <td>1</td>\n",
       "      <td>65</td>\n",
       "      <td>1</td>\n",
       "      <td>1</td>\n",
       "      <td>1</td>\n",
       "      <td>17</td>\n",
       "      <td>3</td>\n",
       "      <td>4</td>\n",
       "      <td>0</td>\n",
       "      <td>1</td>\n",
       "      <td>...</td>\n",
       "      <td>0</td>\n",
       "      <td>0</td>\n",
       "      <td>3</td>\n",
       "      <td>1</td>\n",
       "      <td>0</td>\n",
       "      <td>1</td>\n",
       "      <td>0</td>\n",
       "      <td>3</td>\n",
       "      <td>106</td>\n",
       "      <td>1</td>\n",
       "    </tr>\n",
       "    <tr>\n",
       "      <th>2</th>\n",
       "      <td>2</td>\n",
       "      <td>45</td>\n",
       "      <td>1</td>\n",
       "      <td>1</td>\n",
       "      <td>1</td>\n",
       "      <td>30</td>\n",
       "      <td>1</td>\n",
       "      <td>4</td>\n",
       "      <td>0</td>\n",
       "      <td>0</td>\n",
       "      <td>...</td>\n",
       "      <td>0</td>\n",
       "      <td>1</td>\n",
       "      <td>3</td>\n",
       "      <td>1</td>\n",
       "      <td>1</td>\n",
       "      <td>0</td>\n",
       "      <td>0</td>\n",
       "      <td>3</td>\n",
       "      <td>124</td>\n",
       "      <td>0</td>\n",
       "    </tr>\n",
       "    <tr>\n",
       "      <th>3</th>\n",
       "      <td>3</td>\n",
       "      <td>35</td>\n",
       "      <td>1</td>\n",
       "      <td>1</td>\n",
       "      <td>1</td>\n",
       "      <td>61</td>\n",
       "      <td>2</td>\n",
       "      <td>4</td>\n",
       "      <td>0</td>\n",
       "      <td>0</td>\n",
       "      <td>...</td>\n",
       "      <td>1</td>\n",
       "      <td>1</td>\n",
       "      <td>2</td>\n",
       "      <td>0</td>\n",
       "      <td>0</td>\n",
       "      <td>1</td>\n",
       "      <td>0</td>\n",
       "      <td>3</td>\n",
       "      <td>70</td>\n",
       "      <td>0</td>\n",
       "    </tr>\n",
       "    <tr>\n",
       "      <th>4</th>\n",
       "      <td>4</td>\n",
       "      <td>35</td>\n",
       "      <td>1</td>\n",
       "      <td>1</td>\n",
       "      <td>1</td>\n",
       "      <td>30</td>\n",
       "      <td>0</td>\n",
       "      <td>4</td>\n",
       "      <td>1</td>\n",
       "      <td>1</td>\n",
       "      <td>...</td>\n",
       "      <td>0</td>\n",
       "      <td>1</td>\n",
       "      <td>1</td>\n",
       "      <td>0</td>\n",
       "      <td>1</td>\n",
       "      <td>0</td>\n",
       "      <td>0</td>\n",
       "      <td>3</td>\n",
       "      <td>124</td>\n",
       "      <td>0</td>\n",
       "    </tr>\n",
       "  </tbody>\n",
       "</table>\n",
       "<p>5 rows × 23 columns</p>\n",
       "</div>"
      ],
      "text/plain": [
       "   Unnamed: 0  age  gender  emailContactable  postalContactable  postalCode  \\\n",
       "0           0   25       1                 1                  1          68   \n",
       "1           1   65       1                 1                  1          17   \n",
       "2           2   45       1                 1                  1          30   \n",
       "3           3   35       1                 1                  1          61   \n",
       "4           4   35       1                 1                  1          30   \n",
       "\n",
       "   numberChildren  reactivationValue  toothBrushType  MrPropreTrier  ...  \\\n",
       "0               1                  2               0              0  ...   \n",
       "1               3                  4               0              1  ...   \n",
       "2               1                  4               0              0  ...   \n",
       "3               2                  4               0              0  ...   \n",
       "4               0                  4               1              1  ...   \n",
       "\n",
       "   scentLover  petOwner  ecoInterest  washDishes  liquidDetergent  \\\n",
       "0           0         1            0           1                1   \n",
       "1           0         0            3           1                0   \n",
       "2           0         1            3           1                1   \n",
       "3           1         1            2           0                0   \n",
       "4           0         1            1           0                1   \n",
       "\n",
       "   podsDetergent  powderDetergent  pc_score  postalScore  score_event  \n",
       "0              0                0         2          113            0  \n",
       "1              1                0         3          106            1  \n",
       "2              0                0         3          124            0  \n",
       "3              1                0         3           70            0  \n",
       "4              0                0         3          124            0  \n",
       "\n",
       "[5 rows x 23 columns]"
      ]
     },
     "execution_count": 7,
     "metadata": {},
     "output_type": "execute_result"
    }
   ],
   "source": [
    "#dataframe numérique sur les données d'entrainement\n",
    "df_num=importation(\"DS_num_train.csv\")\n",
    "df_num.head()"
   ]
  },
  {
   "cell_type": "markdown",
   "metadata": {
    "_uuid": "44649a50ce58d2e10a032f7d0e7ecf435e932481"
   },
   "source": [
    "#### Taille du dataset"
   ]
  },
  {
   "cell_type": "code",
   "execution_count": 8,
   "metadata": {
    "_uuid": "0a2396061d262bee451e61dd51be84d0bd1ac9d0"
   },
   "outputs": [
    {
     "data": {
      "text/plain": [
       "(12000, 23)"
      ]
     },
     "execution_count": 8,
     "metadata": {},
     "output_type": "execute_result"
    }
   ],
   "source": [
    "df_num.shape"
   ]
  },
  {
   "cell_type": "markdown",
   "metadata": {
    "_uuid": "3e1de0c39fc28f086a5e8377cc5fbdbf91d377b3"
   },
   "source": [
    "#### Affichage de certaines lignes"
   ]
  },
  {
   "cell_type": "code",
   "execution_count": 9,
   "metadata": {
    "_uuid": "5132eb43114bf99d5f857f459d0c9d2faffc9644"
   },
   "outputs": [
    {
     "data": {
      "text/html": [
       "<div>\n",
       "<style scoped>\n",
       "    .dataframe tbody tr th:only-of-type {\n",
       "        vertical-align: middle;\n",
       "    }\n",
       "\n",
       "    .dataframe tbody tr th {\n",
       "        vertical-align: top;\n",
       "    }\n",
       "\n",
       "    .dataframe thead th {\n",
       "        text-align: right;\n",
       "    }\n",
       "</style>\n",
       "<table border=\"1\" class=\"dataframe\">\n",
       "  <thead>\n",
       "    <tr style=\"text-align: right;\">\n",
       "      <th></th>\n",
       "      <th>Unnamed: 0</th>\n",
       "      <th>age</th>\n",
       "      <th>gender</th>\n",
       "      <th>emailContactable</th>\n",
       "      <th>postalContactable</th>\n",
       "      <th>postalCode</th>\n",
       "      <th>numberChildren</th>\n",
       "      <th>reactivationValue</th>\n",
       "      <th>toothBrushType</th>\n",
       "      <th>MrPropreTrier</th>\n",
       "      <th>...</th>\n",
       "      <th>scentLover</th>\n",
       "      <th>petOwner</th>\n",
       "      <th>ecoInterest</th>\n",
       "      <th>washDishes</th>\n",
       "      <th>liquidDetergent</th>\n",
       "      <th>podsDetergent</th>\n",
       "      <th>powderDetergent</th>\n",
       "      <th>pc_score</th>\n",
       "      <th>postalScore</th>\n",
       "      <th>score_event</th>\n",
       "    </tr>\n",
       "  </thead>\n",
       "  <tbody>\n",
       "    <tr>\n",
       "      <th>11501</th>\n",
       "      <td>11501</td>\n",
       "      <td>45</td>\n",
       "      <td>1</td>\n",
       "      <td>1</td>\n",
       "      <td>1</td>\n",
       "      <td>26</td>\n",
       "      <td>0</td>\n",
       "      <td>4</td>\n",
       "      <td>1</td>\n",
       "      <td>1</td>\n",
       "      <td>...</td>\n",
       "      <td>3</td>\n",
       "      <td>0</td>\n",
       "      <td>2</td>\n",
       "      <td>1</td>\n",
       "      <td>0</td>\n",
       "      <td>0</td>\n",
       "      <td>0</td>\n",
       "      <td>3</td>\n",
       "      <td>70</td>\n",
       "      <td>0</td>\n",
       "    </tr>\n",
       "    <tr>\n",
       "      <th>2363</th>\n",
       "      <td>2363</td>\n",
       "      <td>45</td>\n",
       "      <td>1</td>\n",
       "      <td>1</td>\n",
       "      <td>1</td>\n",
       "      <td>44</td>\n",
       "      <td>0</td>\n",
       "      <td>4</td>\n",
       "      <td>0</td>\n",
       "      <td>0</td>\n",
       "      <td>...</td>\n",
       "      <td>0</td>\n",
       "      <td>1</td>\n",
       "      <td>2</td>\n",
       "      <td>1</td>\n",
       "      <td>0</td>\n",
       "      <td>1</td>\n",
       "      <td>0</td>\n",
       "      <td>2</td>\n",
       "      <td>260</td>\n",
       "      <td>2</td>\n",
       "    </tr>\n",
       "    <tr>\n",
       "      <th>6871</th>\n",
       "      <td>6871</td>\n",
       "      <td>55</td>\n",
       "      <td>1</td>\n",
       "      <td>1</td>\n",
       "      <td>1</td>\n",
       "      <td>59</td>\n",
       "      <td>1</td>\n",
       "      <td>4</td>\n",
       "      <td>0</td>\n",
       "      <td>0</td>\n",
       "      <td>...</td>\n",
       "      <td>0</td>\n",
       "      <td>1</td>\n",
       "      <td>3</td>\n",
       "      <td>1</td>\n",
       "      <td>1</td>\n",
       "      <td>0</td>\n",
       "      <td>0</td>\n",
       "      <td>4</td>\n",
       "      <td>808</td>\n",
       "      <td>0</td>\n",
       "    </tr>\n",
       "    <tr>\n",
       "      <th>10905</th>\n",
       "      <td>10905</td>\n",
       "      <td>35</td>\n",
       "      <td>1</td>\n",
       "      <td>1</td>\n",
       "      <td>1</td>\n",
       "      <td>67</td>\n",
       "      <td>1</td>\n",
       "      <td>4</td>\n",
       "      <td>0</td>\n",
       "      <td>1</td>\n",
       "      <td>...</td>\n",
       "      <td>1</td>\n",
       "      <td>0</td>\n",
       "      <td>0</td>\n",
       "      <td>0</td>\n",
       "      <td>0</td>\n",
       "      <td>1</td>\n",
       "      <td>0</td>\n",
       "      <td>2</td>\n",
       "      <td>169</td>\n",
       "      <td>0</td>\n",
       "    </tr>\n",
       "    <tr>\n",
       "      <th>9805</th>\n",
       "      <td>9805</td>\n",
       "      <td>35</td>\n",
       "      <td>1</td>\n",
       "      <td>1</td>\n",
       "      <td>1</td>\n",
       "      <td>18</td>\n",
       "      <td>2</td>\n",
       "      <td>4</td>\n",
       "      <td>1</td>\n",
       "      <td>0</td>\n",
       "      <td>...</td>\n",
       "      <td>0</td>\n",
       "      <td>1</td>\n",
       "      <td>2</td>\n",
       "      <td>1</td>\n",
       "      <td>0</td>\n",
       "      <td>1</td>\n",
       "      <td>0</td>\n",
       "      <td>2</td>\n",
       "      <td>63</td>\n",
       "      <td>1</td>\n",
       "    </tr>\n",
       "  </tbody>\n",
       "</table>\n",
       "<p>5 rows × 23 columns</p>\n",
       "</div>"
      ],
      "text/plain": [
       "       Unnamed: 0  age  gender  emailContactable  postalContactable  \\\n",
       "11501       11501   45       1                 1                  1   \n",
       "2363         2363   45       1                 1                  1   \n",
       "6871         6871   55       1                 1                  1   \n",
       "10905       10905   35       1                 1                  1   \n",
       "9805         9805   35       1                 1                  1   \n",
       "\n",
       "       postalCode  numberChildren  reactivationValue  toothBrushType  \\\n",
       "11501          26               0                  4               1   \n",
       "2363           44               0                  4               0   \n",
       "6871           59               1                  4               0   \n",
       "10905          67               1                  4               0   \n",
       "9805           18               2                  4               1   \n",
       "\n",
       "       MrPropreTrier  ...  scentLover  petOwner  ecoInterest  washDishes  \\\n",
       "11501              1  ...           3         0            2           1   \n",
       "2363               0  ...           0         1            2           1   \n",
       "6871               0  ...           0         1            3           1   \n",
       "10905              1  ...           1         0            0           0   \n",
       "9805               0  ...           0         1            2           1   \n",
       "\n",
       "       liquidDetergent  podsDetergent  powderDetergent  pc_score  postalScore  \\\n",
       "11501                0              0                0         3           70   \n",
       "2363                 0              1                0         2          260   \n",
       "6871                 1              0                0         4          808   \n",
       "10905                0              1                0         2          169   \n",
       "9805                 0              1                0         2           63   \n",
       "\n",
       "       score_event  \n",
       "11501            0  \n",
       "2363             2  \n",
       "6871             0  \n",
       "10905            0  \n",
       "9805             1  \n",
       "\n",
       "[5 rows x 23 columns]"
      ]
     },
     "execution_count": 9,
     "metadata": {},
     "output_type": "execute_result"
    }
   ],
   "source": [
    "df_num.sample(5)"
   ]
  },
  {
   "cell_type": "markdown",
   "metadata": {
    "_uuid": "1113236bec2848d33c5bfe088ff0d03246b8b7ce"
   },
   "source": [
    "#### Description"
   ]
  },
  {
   "cell_type": "code",
   "execution_count": 11,
   "metadata": {
    "_uuid": "c31619815cb0dae5586985671fdc21110b39a821"
   },
   "outputs": [
    {
     "data": {
      "text/html": [
       "<div>\n",
       "<style scoped>\n",
       "    .dataframe tbody tr th:only-of-type {\n",
       "        vertical-align: middle;\n",
       "    }\n",
       "\n",
       "    .dataframe tbody tr th {\n",
       "        vertical-align: top;\n",
       "    }\n",
       "\n",
       "    .dataframe thead th {\n",
       "        text-align: right;\n",
       "    }\n",
       "</style>\n",
       "<table border=\"1\" class=\"dataframe\">\n",
       "  <thead>\n",
       "    <tr style=\"text-align: right;\">\n",
       "      <th></th>\n",
       "      <th>Unnamed: 0</th>\n",
       "      <th>age</th>\n",
       "      <th>gender</th>\n",
       "      <th>emailContactable</th>\n",
       "      <th>postalContactable</th>\n",
       "      <th>postalCode</th>\n",
       "      <th>numberChildren</th>\n",
       "      <th>reactivationValue</th>\n",
       "      <th>toothBrushType</th>\n",
       "      <th>MrPropreTrier</th>\n",
       "      <th>...</th>\n",
       "      <th>scentLover</th>\n",
       "      <th>petOwner</th>\n",
       "      <th>ecoInterest</th>\n",
       "      <th>washDishes</th>\n",
       "      <th>liquidDetergent</th>\n",
       "      <th>podsDetergent</th>\n",
       "      <th>powderDetergent</th>\n",
       "      <th>pc_score</th>\n",
       "      <th>postalScore</th>\n",
       "      <th>score_event</th>\n",
       "    </tr>\n",
       "  </thead>\n",
       "  <tbody>\n",
       "    <tr>\n",
       "      <th>count</th>\n",
       "      <td>12000.00000</td>\n",
       "      <td>12000.000000</td>\n",
       "      <td>12000.000000</td>\n",
       "      <td>12000.000000</td>\n",
       "      <td>12000.00000</td>\n",
       "      <td>12000.000000</td>\n",
       "      <td>12000.000000</td>\n",
       "      <td>12000.000000</td>\n",
       "      <td>12000.000000</td>\n",
       "      <td>12000.000000</td>\n",
       "      <td>...</td>\n",
       "      <td>12000.000000</td>\n",
       "      <td>12000.000000</td>\n",
       "      <td>12000.000000</td>\n",
       "      <td>12000.000000</td>\n",
       "      <td>12000.000000</td>\n",
       "      <td>12000.000000</td>\n",
       "      <td>12000.000000</td>\n",
       "      <td>12000.000000</td>\n",
       "      <td>12000.000000</td>\n",
       "      <td>12000.000000</td>\n",
       "    </tr>\n",
       "    <tr>\n",
       "      <th>mean</th>\n",
       "      <td>5999.50000</td>\n",
       "      <td>40.678417</td>\n",
       "      <td>0.866083</td>\n",
       "      <td>0.880167</td>\n",
       "      <td>0.89400</td>\n",
       "      <td>51.768583</td>\n",
       "      <td>1.275583</td>\n",
       "      <td>3.369667</td>\n",
       "      <td>0.340333</td>\n",
       "      <td>0.171000</td>\n",
       "      <td>...</td>\n",
       "      <td>0.529750</td>\n",
       "      <td>0.600417</td>\n",
       "      <td>1.370083</td>\n",
       "      <td>0.382000</td>\n",
       "      <td>0.500583</td>\n",
       "      <td>0.348083</td>\n",
       "      <td>0.037750</td>\n",
       "      <td>2.581667</td>\n",
       "      <td>231.882167</td>\n",
       "      <td>0.682833</td>\n",
       "    </tr>\n",
       "    <tr>\n",
       "      <th>std</th>\n",
       "      <td>3464.24595</td>\n",
       "      <td>14.446351</td>\n",
       "      <td>0.340577</td>\n",
       "      <td>0.324780</td>\n",
       "      <td>0.30785</td>\n",
       "      <td>26.970517</td>\n",
       "      <td>1.294454</td>\n",
       "      <td>1.057090</td>\n",
       "      <td>0.473841</td>\n",
       "      <td>0.376525</td>\n",
       "      <td>...</td>\n",
       "      <td>0.912607</td>\n",
       "      <td>0.489833</td>\n",
       "      <td>1.314065</td>\n",
       "      <td>0.485897</td>\n",
       "      <td>0.500020</td>\n",
       "      <td>0.476382</td>\n",
       "      <td>0.190599</td>\n",
       "      <td>1.075683</td>\n",
       "      <td>199.990994</td>\n",
       "      <td>1.905748</td>\n",
       "    </tr>\n",
       "    <tr>\n",
       "      <th>min</th>\n",
       "      <td>0.00000</td>\n",
       "      <td>0.000000</td>\n",
       "      <td>0.000000</td>\n",
       "      <td>0.000000</td>\n",
       "      <td>0.00000</td>\n",
       "      <td>0.000000</td>\n",
       "      <td>0.000000</td>\n",
       "      <td>0.000000</td>\n",
       "      <td>0.000000</td>\n",
       "      <td>0.000000</td>\n",
       "      <td>...</td>\n",
       "      <td>0.000000</td>\n",
       "      <td>0.000000</td>\n",
       "      <td>0.000000</td>\n",
       "      <td>0.000000</td>\n",
       "      <td>0.000000</td>\n",
       "      <td>0.000000</td>\n",
       "      <td>0.000000</td>\n",
       "      <td>0.000000</td>\n",
       "      <td>2.000000</td>\n",
       "      <td>0.000000</td>\n",
       "    </tr>\n",
       "    <tr>\n",
       "      <th>25%</th>\n",
       "      <td>2999.75000</td>\n",
       "      <td>35.000000</td>\n",
       "      <td>1.000000</td>\n",
       "      <td>1.000000</td>\n",
       "      <td>1.00000</td>\n",
       "      <td>31.000000</td>\n",
       "      <td>0.000000</td>\n",
       "      <td>3.000000</td>\n",
       "      <td>0.000000</td>\n",
       "      <td>0.000000</td>\n",
       "      <td>...</td>\n",
       "      <td>0.000000</td>\n",
       "      <td>0.000000</td>\n",
       "      <td>0.000000</td>\n",
       "      <td>0.000000</td>\n",
       "      <td>0.000000</td>\n",
       "      <td>0.000000</td>\n",
       "      <td>0.000000</td>\n",
       "      <td>2.000000</td>\n",
       "      <td>107.000000</td>\n",
       "      <td>0.000000</td>\n",
       "    </tr>\n",
       "    <tr>\n",
       "      <th>50%</th>\n",
       "      <td>5999.50000</td>\n",
       "      <td>35.000000</td>\n",
       "      <td>1.000000</td>\n",
       "      <td>1.000000</td>\n",
       "      <td>1.00000</td>\n",
       "      <td>58.000000</td>\n",
       "      <td>1.000000</td>\n",
       "      <td>4.000000</td>\n",
       "      <td>0.000000</td>\n",
       "      <td>0.000000</td>\n",
       "      <td>...</td>\n",
       "      <td>0.000000</td>\n",
       "      <td>1.000000</td>\n",
       "      <td>1.000000</td>\n",
       "      <td>0.000000</td>\n",
       "      <td>1.000000</td>\n",
       "      <td>0.000000</td>\n",
       "      <td>0.000000</td>\n",
       "      <td>3.000000</td>\n",
       "      <td>188.000000</td>\n",
       "      <td>0.000000</td>\n",
       "    </tr>\n",
       "    <tr>\n",
       "      <th>75%</th>\n",
       "      <td>8999.25000</td>\n",
       "      <td>45.000000</td>\n",
       "      <td>1.000000</td>\n",
       "      <td>1.000000</td>\n",
       "      <td>1.00000</td>\n",
       "      <td>74.000000</td>\n",
       "      <td>2.000000</td>\n",
       "      <td>4.000000</td>\n",
       "      <td>1.000000</td>\n",
       "      <td>0.000000</td>\n",
       "      <td>...</td>\n",
       "      <td>1.000000</td>\n",
       "      <td>1.000000</td>\n",
       "      <td>3.000000</td>\n",
       "      <td>1.000000</td>\n",
       "      <td>1.000000</td>\n",
       "      <td>1.000000</td>\n",
       "      <td>0.000000</td>\n",
       "      <td>3.000000</td>\n",
       "      <td>242.000000</td>\n",
       "      <td>0.000000</td>\n",
       "    </tr>\n",
       "    <tr>\n",
       "      <th>max</th>\n",
       "      <td>11999.00000</td>\n",
       "      <td>95.000000</td>\n",
       "      <td>1.000000</td>\n",
       "      <td>1.000000</td>\n",
       "      <td>1.00000</td>\n",
       "      <td>98.000000</td>\n",
       "      <td>5.000000</td>\n",
       "      <td>4.000000</td>\n",
       "      <td>1.000000</td>\n",
       "      <td>1.000000</td>\n",
       "      <td>...</td>\n",
       "      <td>3.000000</td>\n",
       "      <td>1.000000</td>\n",
       "      <td>4.000000</td>\n",
       "      <td>1.000000</td>\n",
       "      <td>1.000000</td>\n",
       "      <td>1.000000</td>\n",
       "      <td>1.000000</td>\n",
       "      <td>4.000000</td>\n",
       "      <td>808.000000</td>\n",
       "      <td>47.000000</td>\n",
       "    </tr>\n",
       "  </tbody>\n",
       "</table>\n",
       "<p>8 rows × 23 columns</p>\n",
       "</div>"
      ],
      "text/plain": [
       "        Unnamed: 0           age        gender  emailContactable  \\\n",
       "count  12000.00000  12000.000000  12000.000000      12000.000000   \n",
       "mean    5999.50000     40.678417      0.866083          0.880167   \n",
       "std     3464.24595     14.446351      0.340577          0.324780   \n",
       "min        0.00000      0.000000      0.000000          0.000000   \n",
       "25%     2999.75000     35.000000      1.000000          1.000000   \n",
       "50%     5999.50000     35.000000      1.000000          1.000000   \n",
       "75%     8999.25000     45.000000      1.000000          1.000000   \n",
       "max    11999.00000     95.000000      1.000000          1.000000   \n",
       "\n",
       "       postalContactable    postalCode  numberChildren  reactivationValue  \\\n",
       "count        12000.00000  12000.000000    12000.000000       12000.000000   \n",
       "mean             0.89400     51.768583        1.275583           3.369667   \n",
       "std              0.30785     26.970517        1.294454           1.057090   \n",
       "min              0.00000      0.000000        0.000000           0.000000   \n",
       "25%              1.00000     31.000000        0.000000           3.000000   \n",
       "50%              1.00000     58.000000        1.000000           4.000000   \n",
       "75%              1.00000     74.000000        2.000000           4.000000   \n",
       "max              1.00000     98.000000        5.000000           4.000000   \n",
       "\n",
       "       toothBrushType  MrPropreTrier  ...    scentLover      petOwner  \\\n",
       "count    12000.000000   12000.000000  ...  12000.000000  12000.000000   \n",
       "mean         0.340333       0.171000  ...      0.529750      0.600417   \n",
       "std          0.473841       0.376525  ...      0.912607      0.489833   \n",
       "min          0.000000       0.000000  ...      0.000000      0.000000   \n",
       "25%          0.000000       0.000000  ...      0.000000      0.000000   \n",
       "50%          0.000000       0.000000  ...      0.000000      1.000000   \n",
       "75%          1.000000       0.000000  ...      1.000000      1.000000   \n",
       "max          1.000000       1.000000  ...      3.000000      1.000000   \n",
       "\n",
       "        ecoInterest    washDishes  liquidDetergent  podsDetergent  \\\n",
       "count  12000.000000  12000.000000     12000.000000   12000.000000   \n",
       "mean       1.370083      0.382000         0.500583       0.348083   \n",
       "std        1.314065      0.485897         0.500020       0.476382   \n",
       "min        0.000000      0.000000         0.000000       0.000000   \n",
       "25%        0.000000      0.000000         0.000000       0.000000   \n",
       "50%        1.000000      0.000000         1.000000       0.000000   \n",
       "75%        3.000000      1.000000         1.000000       1.000000   \n",
       "max        4.000000      1.000000         1.000000       1.000000   \n",
       "\n",
       "       powderDetergent      pc_score   postalScore   score_event  \n",
       "count     12000.000000  12000.000000  12000.000000  12000.000000  \n",
       "mean          0.037750      2.581667    231.882167      0.682833  \n",
       "std           0.190599      1.075683    199.990994      1.905748  \n",
       "min           0.000000      0.000000      2.000000      0.000000  \n",
       "25%           0.000000      2.000000    107.000000      0.000000  \n",
       "50%           0.000000      3.000000    188.000000      0.000000  \n",
       "75%           0.000000      3.000000    242.000000      0.000000  \n",
       "max           1.000000      4.000000    808.000000     47.000000  \n",
       "\n",
       "[8 rows x 23 columns]"
      ]
     },
     "execution_count": 11,
     "metadata": {},
     "output_type": "execute_result"
    }
   ],
   "source": [
    "df_num.describe()"
   ]
  },
  {
   "cell_type": "code",
   "execution_count": 12,
   "metadata": {
    "_uuid": "718b82039841c137ab7e08a6e79e264643134642"
   },
   "outputs": [
    {
     "name": "stdout",
     "output_type": "stream",
     "text": [
      "<class 'pandas.core.frame.DataFrame'>\n",
      "RangeIndex: 12000 entries, 0 to 11999\n",
      "Data columns (total 23 columns):\n",
      " #   Column             Non-Null Count  Dtype\n",
      "---  ------             --------------  -----\n",
      " 0   Unnamed: 0         12000 non-null  int64\n",
      " 1   age                12000 non-null  int64\n",
      " 2   gender             12000 non-null  int64\n",
      " 3   emailContactable   12000 non-null  int64\n",
      " 4   postalContactable  12000 non-null  int64\n",
      " 5   postalCode         12000 non-null  int64\n",
      " 6   numberChildren     12000 non-null  int64\n",
      " 7   reactivationValue  12000 non-null  int64\n",
      " 8   toothBrushType     12000 non-null  int64\n",
      " 9   MrPropreTrier      12000 non-null  int64\n",
      " 10  AntikalTrier       12000 non-null  int64\n",
      " 11  ArielTrier         12000 non-null  int64\n",
      " 12  DashTrier          12000 non-null  int64\n",
      " 13  scentLover         12000 non-null  int64\n",
      " 14  petOwner           12000 non-null  int64\n",
      " 15  ecoInterest        12000 non-null  int64\n",
      " 16  washDishes         12000 non-null  int64\n",
      " 17  liquidDetergent    12000 non-null  int64\n",
      " 18  podsDetergent      12000 non-null  int64\n",
      " 19  powderDetergent    12000 non-null  int64\n",
      " 20  pc_score           12000 non-null  int64\n",
      " 21  postalScore        12000 non-null  int64\n",
      " 22  score_event        12000 non-null  int64\n",
      "dtypes: int64(23)\n",
      "memory usage: 2.1 MB\n"
     ]
    }
   ],
   "source": [
    "df_num.info()"
   ]
  },
  {
   "cell_type": "markdown",
   "metadata": {
    "_uuid": "6a970312b67b588610a8579ecc2ba4bac0fcee04"
   },
   "source": [
    "#### Analyse de la variable à expliquer"
   ]
  },
  {
   "cell_type": "code",
   "execution_count": 13,
   "metadata": {
    "_uuid": "b883243919bd382193ed15e2a90f9b522bf6f1f7"
   },
   "outputs": [
    {
     "data": {
      "text/plain": [
       "count    12000.000000\n",
       "mean         0.382000\n",
       "std          0.485897\n",
       "min          0.000000\n",
       "25%          0.000000\n",
       "50%          0.000000\n",
       "75%          1.000000\n",
       "max          1.000000\n",
       "Name: washDishes, dtype: float64"
      ]
     },
     "execution_count": 13,
     "metadata": {},
     "output_type": "execute_result"
    }
   ],
   "source": [
    "df_num[\"washDishes\"].describe()"
   ]
  },
  {
   "cell_type": "code",
   "execution_count": 14,
   "metadata": {
    "_uuid": "9c107b83e0148914826282bf1f0ab28505d577ab"
   },
   "outputs": [
    {
     "data": {
      "text/plain": [
       "array([1, 0], dtype=int64)"
      ]
     },
     "execution_count": 14,
     "metadata": {},
     "output_type": "execute_result"
    }
   ],
   "source": [
    "df_num[\"washDishes\"].unique()"
   ]
  },
  {
   "cell_type": "markdown",
   "metadata": {
    "_uuid": "3ae0dfa26e2daf4cfc8e1c6f3b5008d0dab22ec0"
   },
   "source": [
    "### Corrélation des features"
   ]
  },
  {
   "cell_type": "code",
   "execution_count": 15,
   "metadata": {
    "_uuid": "3059188d3874be2e0c80e13655609ac6a6fc644f"
   },
   "outputs": [
    {
     "name": "stdout",
     "output_type": "stream",
     "text": [
      "washDishes           1.000000\n",
      "numberChildren       0.154992\n",
      "age                  0.153612\n",
      "toothBrushType       0.111456\n",
      "ecoInterest          0.109189\n",
      "score_event          0.099711\n",
      "petOwner             0.097935\n",
      "reactivationValue    0.092396\n",
      "postalContactable    0.082962\n",
      "postalScore          0.077483\n",
      "emailContactable     0.073574\n",
      "podsDetergent        0.048025\n",
      "gender               0.047276\n",
      "scentLover           0.038834\n",
      "ArielTrier           0.034418\n",
      "AntikalTrier         0.026565\n",
      "DashTrier            0.021948\n",
      "postalCode           0.020273\n",
      "MrPropreTrier        0.017828\n",
      "pc_score             0.014453\n",
      "Unnamed: 0           0.011538\n",
      "liquidDetergent      0.008464\n",
      "powderDetergent      0.004458\n",
      "Name: washDishes, dtype: float64\n"
     ]
    }
   ],
   "source": [
    "print(df_num.corr()[\"washDishes\"].abs().sort_values(ascending=False))"
   ]
  },
  {
   "cell_type": "markdown",
   "metadata": {
    "_uuid": "40b6c0a9d03bcab78b87bd41c7df3fe1b930547a"
   },
   "source": [
    "## Analyse des données"
   ]
  },
  {
   "cell_type": "markdown",
   "metadata": {
    "_uuid": "41da6ba94903ad6ee64b1ba6a1462815ae603536"
   },
   "source": [
    "### Analyse de la variable 'washDishes'"
   ]
  },
  {
   "cell_type": "code",
   "execution_count": 16,
   "metadata": {
    "_uuid": "29aa23ccb8e6438688e16346b3474f4cc03bae13"
   },
   "outputs": [
    {
     "name": "stdout",
     "output_type": "stream",
     "text": [
      "0    7416\n",
      "1    4584\n",
      "Name: washDishes, dtype: int64\n"
     ]
    },
    {
     "data": {
      "image/png": "[encoded data removed]",
      "text/plain": [
       "<Figure size 432x288 with 1 Axes>"
      ]
     },
     "metadata": {
      "needs_background": "light"
     },
     "output_type": "display_data"
    }
   ],
   "source": [
    "y = df_num[\"washDishes\"]\n",
    "\n",
    "sns.countplot(y)\n",
    "\n",
    "target_temp = df_num.washDishes.value_counts()\n",
    "\n",
    "print(target_temp)"
   ]
  },
  {
   "cell_type": "code",
   "execution_count": 17,
   "metadata": {
    "_uuid": "5240af8bcd12736900050cea077c713d7d9641df"
   },
   "outputs": [
    {
     "name": "stdout",
     "output_type": "stream",
     "text": [
      "Pourcentage de personnes lavant sa vaisselle à la main61.8\n",
      "Pourcentage de personnes ayant un lave-vaisselle 38.2\n"
     ]
    }
   ],
   "source": [
    "print(\"Pourcentage de personnes lavant sa vaisselle à la main\"+str(round(target_temp[0]*100/12000,2)))\n",
    "print(\"Pourcentage de personnes ayant un lave-vaisselle \"+str(round(target_temp[1]*100/12000,2)))\n"
   ]
  },
  {
   "cell_type": "markdown",
   "metadata": {
    "_uuid": "82f9919a1312b53f22980a0071d077e5b0288d90"
   },
   "source": [
    "### Analyse de la feature 'âge'"
   ]
  },
  {
   "cell_type": "code",
   "execution_count": 18,
   "metadata": {
    "_uuid": "07a3fb2f44b82360d0393377029851655bcdcd31"
   },
   "outputs": [
    {
     "data": {
      "text/plain": [
       "array([25, 65, 45, 35, 55, 75,  0, 85, 15, 95, 91, 93, 94], dtype=int64)"
      ]
     },
     "execution_count": 18,
     "metadata": {},
     "output_type": "execute_result"
    }
   ],
   "source": [
    "df_num[\"age\"].unique()"
   ]
  },
  {
   "cell_type": "code",
   "execution_count": 19,
   "metadata": {
    "_uuid": "5d10e6c167251e6d3b1b82a06159da234eeef721"
   },
   "outputs": [
    {
     "data": {
      "text/plain": [
       "<matplotlib.axes._subplots.AxesSubplot at 0x26dca7f5580>"
      ]
     },
     "execution_count": 19,
     "metadata": {},
     "output_type": "execute_result"
    },
    {
     "data": {
      "image/png": "[encoded data removed]",
      "text/plain": [
       "<Figure size 1152x648 with 1 Axes>"
      ]
     },
     "metadata": {
      "needs_background": "light"
     },
     "output_type": "display_data"
    }
   ],
   "source": [
    "plt.figure(figsize=(16,9))\n",
    "sns.barplot(df_num[\"age\"],y)"
   ]
  },
  {
   "cell_type": "markdown",
   "metadata": {
    "_uuid": "f7bbd747b02746eadfa2b525544509c8545ac1af"
   },
   "source": [
    "### Analyse de la feature 'ecoInterest'"
   ]
  },
  {
   "cell_type": "code",
   "execution_count": 20,
   "metadata": {
    "_uuid": "7c795d4a86ee05d58e10a412add90065afbd4a70"
   },
   "outputs": [
    {
     "data": {
      "text/plain": [
       "array([0, 3, 2, 1, 4], dtype=int64)"
      ]
     },
     "execution_count": 20,
     "metadata": {},
     "output_type": "execute_result"
    }
   ],
   "source": [
    "df_num[\"ecoInterest\"].unique()"
   ]
  },
  {
   "cell_type": "code",
   "execution_count": 21,
   "metadata": {
    "_uuid": "56d6ed2b3d8d20a61814980cd459502b452d14c1"
   },
   "outputs": [
    {
     "data": {
      "text/plain": [
       "<matplotlib.axes._subplots.AxesSubplot at 0x26dca951c10>"
      ]
     },
     "execution_count": 21,
     "metadata": {},
     "output_type": "execute_result"
    },
    {
     "data": {
      "image/png": "[encoded data removed]",
      "text/plain": [
       "<Figure size 432x288 with 1 Axes>"
      ]
     },
     "metadata": {
      "needs_background": "light"
     },
     "output_type": "display_data"
    }
   ],
   "source": [
    "sns.barplot(df_num[\"ecoInterest\"],y)"
   ]
  },
  {
   "cell_type": "markdown",
   "metadata": {
    "_uuid": "510c7c3a7386a7e308cc6052025dc806fad61534"
   },
   "source": [
    "##### We notice, that chest pain of '0', i.e. the ones with typical angina are much less likely to have heart problems"
   ]
  },
  {
   "cell_type": "markdown",
   "metadata": {
    "_uuid": "bb50bd1cedd31d29683e2411439368aa1390e7ef"
   },
   "source": [
    "### Analyse de la feature 'gender'"
   ]
  },
  {
   "cell_type": "code",
   "execution_count": 22,
   "metadata": {
    "_uuid": "43d491d311a8b96a6a9cbecbeff87f577584cd3a"
   },
   "outputs": [
    {
     "data": {
      "text/plain": [
       "array([1, 0], dtype=int64)"
      ]
     },
     "execution_count": 22,
     "metadata": {},
     "output_type": "execute_result"
    }
   ],
   "source": [
    "df_num[\"gender\"].unique()"
   ]
  },
  {
   "cell_type": "code",
   "execution_count": 23,
   "metadata": {
    "_uuid": "90509dcee97df858115131c771e69347a044aafb",
    "scrolled": true
   },
   "outputs": [
    {
     "data": {
      "text/plain": [
       "<matplotlib.axes._subplots.AxesSubplot at 0x26dca945040>"
      ]
     },
     "execution_count": 23,
     "metadata": {},
     "output_type": "execute_result"
    },
    {
     "data": {
      "image/png": "[encoded data removed]",
      "text/plain": [
       "<Figure size 432x288 with 1 Axes>"
      ]
     },
     "metadata": {
      "needs_background": "light"
     },
     "output_type": "display_data"
    }
   ],
   "source": [
    "sns.barplot(df_num[\"gender\"],y)"
   ]
  },
  {
   "cell_type": "markdown",
   "metadata": {
    "_uuid": "5a8d6384c879ed40eddefed03b16607bc02deecf"
   },
   "source": [
    "### Analyse de la feature 'toothBrushType'"
   ]
  },
  {
   "cell_type": "code",
   "execution_count": 24,
   "metadata": {
    "_uuid": "b12fcc535fe07bc58aa99e97ec9b4e0b01f30a8d",
    "scrolled": true
   },
   "outputs": [
    {
     "data": {
      "text/plain": [
       "array([0, 1], dtype=int64)"
      ]
     },
     "execution_count": 24,
     "metadata": {},
     "output_type": "execute_result"
    }
   ],
   "source": [
    "df_num[\"toothBrushType\"].unique()"
   ]
  },
  {
   "cell_type": "code",
   "execution_count": 25,
   "metadata": {
    "_uuid": "ccae9489c2b6e63adb87cef83d367f49ef08a133",
    "scrolled": true
   },
   "outputs": [
    {
     "data": {
      "text/plain": [
       "<matplotlib.axes._subplots.AxesSubplot at 0x26dcaaabeb0>"
      ]
     },
     "execution_count": 25,
     "metadata": {},
     "output_type": "execute_result"
    },
    {
     "data": {
      "image/png": "[encoded data removed]",
      "text/plain": [
       "<Figure size 432x288 with 1 Axes>"
      ]
     },
     "metadata": {
      "needs_background": "light"
     },
     "output_type": "display_data"
    }
   ],
   "source": [
    "sns.barplot(df_num[\"toothBrushType\"],y)"
   ]
  },
  {
   "cell_type": "markdown",
   "metadata": {},
   "source": [
    "### Analyse de la feature 'reactivationValue'"
   ]
  },
  {
   "cell_type": "code",
   "execution_count": 26,
   "metadata": {},
   "outputs": [
    {
     "data": {
      "text/plain": [
       "<matplotlib.axes._subplots.AxesSubplot at 0x26dcaaf1040>"
      ]
     },
     "execution_count": 26,
     "metadata": {},
     "output_type": "execute_result"
    },
    {
     "data": {
      "image/png": "[encoded data removed]",
      "text/plain": [
       "<Figure size 432x288 with 1 Axes>"
      ]
     },
     "metadata": {
      "needs_background": "light"
     },
     "output_type": "display_data"
    }
   ],
   "source": [
    "df_num[\"reactivationValue\"].unique()\n",
    "sns.barplot(df_num[\"reactivationValue\"],y)"
   ]
  },
  {
   "cell_type": "markdown",
   "metadata": {
    "_uuid": "4ce2d649ededc2126324cd07ce430b005697e288"
   },
   "source": [
    "### Analyse de la feature 'postalCode' avec département uniquement"
   ]
  },
  {
   "cell_type": "code",
   "execution_count": 27,
   "metadata": {
    "_uuid": "e1e148d25967c36d2bb5fbfb802c70dae93f8a4f"
   },
   "outputs": [
    {
     "data": {
      "text/plain": [
       "<matplotlib.axes._subplots.AxesSubplot at 0x26dcaade640>"
      ]
     },
     "execution_count": 27,
     "metadata": {},
     "output_type": "execute_result"
    },
    {
     "data": {
      "image/png": "[encoded data removed]",
      "text/plain": [
       "<Figure size 1296x720 with 1 Axes>"
      ]
     },
     "metadata": {
      "needs_background": "light"
     },
     "output_type": "display_data"
    }
   ],
   "source": [
    "df_num[\"postalCode\"].unique()\n",
    "plt.figure(figsize=(18,10))\n",
    "sns.barplot(df_num[\"postalCode\"],y)"
   ]
  },
  {
   "cell_type": "markdown",
   "metadata": {
    "_uuid": "d1c95f2180e264978c85703ece34898dab4d522b"
   },
   "source": [
    "## IV. Phase d'apprentissage"
   ]
  },
  {
   "cell_type": "code",
   "execution_count": 23,
   "metadata": {
    "_uuid": "829fcda5b63e1b9f7ecb7762e8ca617166533aca"
   },
   "outputs": [],
   "source": [
    "from sklearn.model_selection import train_test_split\n",
    "\n",
    "#filtres = features non utilisés\n",
    "filters=['scentLover','ArielTrier' ,'AntikalTrier','DashTrier' ,'MrPropreTrier','postalCode','liquidDetergent','powderDetergent']\n",
    "\n",
    "# données d'entrainements\n",
    "predictors = df_num.drop(filters+['washDishes'],axis=1)\n",
    "target = df_num[\"washDishes\"]\n",
    "\n",
    "X_train,X_test,Y_train,Y_test = train_test_split(predictors,target,test_size=0.20,random_state=0)\n"
   ]
  },
  {
   "cell_type": "code",
   "execution_count": 24,
   "metadata": {
    "_uuid": "7a74842015c2f193d16caa4fa25e2c4cbf1940f8"
   },
   "outputs": [
    {
     "data": {
      "text/plain": [
       "(9600, 11)"
      ]
     },
     "execution_count": 24,
     "metadata": {},
     "output_type": "execute_result"
    }
   ],
   "source": [
    "X_train.shape"
   ]
  },
  {
   "cell_type": "code",
   "execution_count": 25,
   "metadata": {
    "_uuid": "1f777652df4521deb877dac4d5d635d8cd35b279"
   },
   "outputs": [
    {
     "data": {
      "text/plain": [
       "(2400, 11)"
      ]
     },
     "execution_count": 25,
     "metadata": {},
     "output_type": "execute_result"
    }
   ],
   "source": [
    "X_test.shape"
   ]
  },
  {
   "cell_type": "code",
   "execution_count": 26,
   "metadata": {
    "_uuid": "028c968a076840657faf7dbc3bfee9fe7b5ca45a"
   },
   "outputs": [
    {
     "data": {
      "text/plain": [
       "(9600,)"
      ]
     },
     "execution_count": 26,
     "metadata": {},
     "output_type": "execute_result"
    }
   ],
   "source": [
    "Y_train.shape"
   ]
  },
  {
   "cell_type": "code",
   "execution_count": 27,
   "metadata": {
    "_uuid": "eb6857dfc18da52dae38bec95d20106f39136e61"
   },
   "outputs": [
    {
     "data": {
      "text/plain": [
       "(2400,)"
      ]
     },
     "execution_count": 27,
     "metadata": {},
     "output_type": "execute_result"
    }
   ],
   "source": [
    "Y_test.shape"
   ]
  },
  {
   "cell_type": "code",
   "execution_count": 28,
   "metadata": {},
   "outputs": [
    {
     "name": "stderr",
     "output_type": "stream",
     "text": [
      "<ipython-input-22-ebdf7a00d565>:24: SettingWithCopyWarning: \n",
      "A value is trying to be set on a copy of a slice from a DataFrame.\n",
      "Try using .loc[row_indexer,col_indexer] = value instead\n",
      "\n",
      "See the caveats in the documentation: https://pandas.pydata.org/pandas-docs/stable/user_guide/indexing.html#returning-a-view-versus-a-copy\n",
      "  df_num[col]=0\n",
      "<ipython-input-22-ebdf7a00d565>:26: SettingWithCopyWarning: \n",
      "A value is trying to be set on a copy of a slice from a DataFrame.\n",
      "Try using .loc[row_indexer,col_indexer] = value instead\n",
      "\n",
      "See the caveats in the documentation: https://pandas.pydata.org/pandas-docs/stable/user_guide/indexing.html#returning-a-view-versus-a-copy\n",
      "  df_num[coll]=0\n",
      "<ipython-input-22-ebdf7a00d565>:49: SettingWithCopyWarning: \n",
      "A value is trying to be set on a copy of a slice from a DataFrame.\n",
      "Try using .loc[row_indexer,col_indexer] = value instead\n",
      "\n",
      "See the caveats in the documentation: https://pandas.pydata.org/pandas-docs/stable/user_guide/indexing.html#returning-a-view-versus-a-copy\n",
      "  df_num['score_event']=0\n",
      "D:\\anaconda\\lib\\site-packages\\pandas\\core\\indexing.py:671: SettingWithCopyWarning: \n",
      "A value is trying to be set on a copy of a slice from a DataFrame\n",
      "\n",
      "See the caveats in the documentation: https://pandas.pydata.org/pandas-docs/stable/user_guide/indexing.html#returning-a-view-versus-a-copy\n",
      "  self._setitem_with_indexer(indexer, value)\n",
      "<ipython-input-22-ebdf7a00d565>:57: SettingWithCopyWarning: \n",
      "A value is trying to be set on a copy of a slice from a DataFrame\n",
      "\n",
      "See the caveats in the documentation: https://pandas.pydata.org/pandas-docs/stable/user_guide/indexing.html#returning-a-view-versus-a-copy\n",
      "  df_num.loc[df_train.gender==\"F\",'gender']=1\n",
      "<ipython-input-22-ebdf7a00d565>:58: SettingWithCopyWarning: \n",
      "A value is trying to be set on a copy of a slice from a DataFrame\n",
      "\n",
      "See the caveats in the documentation: https://pandas.pydata.org/pandas-docs/stable/user_guide/indexing.html#returning-a-view-versus-a-copy\n",
      "  df_num.loc[df_train.gender==\"M\",'gender']=0\n",
      "<ipython-input-22-ebdf7a00d565>:61: SettingWithCopyWarning: \n",
      "A value is trying to be set on a copy of a slice from a DataFrame\n",
      "\n",
      "See the caveats in the documentation: https://pandas.pydata.org/pandas-docs/stable/user_guide/indexing.html#returning-a-view-versus-a-copy\n",
      "  df_num.loc[df_train.ecoInterest==\"Low\",'ecoInterest']=1\n",
      "<ipython-input-22-ebdf7a00d565>:62: SettingWithCopyWarning: \n",
      "A value is trying to be set on a copy of a slice from a DataFrame\n",
      "\n",
      "See the caveats in the documentation: https://pandas.pydata.org/pandas-docs/stable/user_guide/indexing.html#returning-a-view-versus-a-copy\n",
      "  df_num.loc[df_train.ecoInterest==\"Medium\",'ecoInterest']=2\n",
      "<ipython-input-22-ebdf7a00d565>:63: SettingWithCopyWarning: \n",
      "A value is trying to be set on a copy of a slice from a DataFrame\n",
      "\n",
      "See the caveats in the documentation: https://pandas.pydata.org/pandas-docs/stable/user_guide/indexing.html#returning-a-view-versus-a-copy\n",
      "  df_num.loc[df_train.ecoInterest==\"High\",'ecoInterest']=3\n",
      "<ipython-input-22-ebdf7a00d565>:64: SettingWithCopyWarning: \n",
      "A value is trying to be set on a copy of a slice from a DataFrame\n",
      "\n",
      "See the caveats in the documentation: https://pandas.pydata.org/pandas-docs/stable/user_guide/indexing.html#returning-a-view-versus-a-copy\n",
      "  df_num.loc[df_train.ecoInterest==\"Very high\",'ecoInterest']=4\n",
      "<ipython-input-22-ebdf7a00d565>:67: SettingWithCopyWarning: \n",
      "A value is trying to be set on a copy of a slice from a DataFrame\n",
      "\n",
      "See the caveats in the documentation: https://pandas.pydata.org/pandas-docs/stable/user_guide/indexing.html#returning-a-view-versus-a-copy\n",
      "  df_num.loc[df_train.petOwner==\"Yes\",'petOwner']=1\n",
      "<ipython-input-22-ebdf7a00d565>:70: SettingWithCopyWarning: \n",
      "A value is trying to be set on a copy of a slice from a DataFrame\n",
      "\n",
      "See the caveats in the documentation: https://pandas.pydata.org/pandas-docs/stable/user_guide/indexing.html#returning-a-view-versus-a-copy\n",
      "  df_num.loc[df_train.MrPropreTrier==\"Known Trier\",'MrPropreTrier']=1\n",
      "<ipython-input-22-ebdf7a00d565>:71: SettingWithCopyWarning: \n",
      "A value is trying to be set on a copy of a slice from a DataFrame\n",
      "\n",
      "See the caveats in the documentation: https://pandas.pydata.org/pandas-docs/stable/user_guide/indexing.html#returning-a-view-versus-a-copy\n",
      "  df_num.loc[df_train.AntikalTrier==\"Known Trier\",'AntikalTrier']=1\n",
      "<ipython-input-22-ebdf7a00d565>:72: SettingWithCopyWarning: \n",
      "A value is trying to be set on a copy of a slice from a DataFrame\n",
      "\n",
      "See the caveats in the documentation: https://pandas.pydata.org/pandas-docs/stable/user_guide/indexing.html#returning-a-view-versus-a-copy\n",
      "  df_num.loc[df_train.ArielTrier==\"Known Trier\",'ArielTrier']=1\n",
      "<ipython-input-22-ebdf7a00d565>:73: SettingWithCopyWarning: \n",
      "A value is trying to be set on a copy of a slice from a DataFrame\n",
      "\n",
      "See the caveats in the documentation: https://pandas.pydata.org/pandas-docs/stable/user_guide/indexing.html#returning-a-view-versus-a-copy\n",
      "  df_num.loc[train.DashTrier==\"Known Trier\",'DashTrier']=1\n",
      "<ipython-input-22-ebdf7a00d565>:76: SettingWithCopyWarning: \n",
      "A value is trying to be set on a copy of a slice from a DataFrame\n",
      "\n",
      "See the caveats in the documentation: https://pandas.pydata.org/pandas-docs/stable/user_guide/indexing.html#returning-a-view-versus-a-copy\n",
      "  df_num.loc[df_train.toothBrushType==\"Manual\",'toothBrushType']=0\n",
      "<ipython-input-22-ebdf7a00d565>:77: SettingWithCopyWarning: \n",
      "A value is trying to be set on a copy of a slice from a DataFrame\n",
      "\n",
      "See the caveats in the documentation: https://pandas.pydata.org/pandas-docs/stable/user_guide/indexing.html#returning-a-view-versus-a-copy\n",
      "  df_num.loc[df_train.toothBrushType==\"Electric\",'toothBrushType']=1\n",
      "<ipython-input-22-ebdf7a00d565>:80: SettingWithCopyWarning: \n",
      "A value is trying to be set on a copy of a slice from a DataFrame\n",
      "\n",
      "See the caveats in the documentation: https://pandas.pydata.org/pandas-docs/stable/user_guide/indexing.html#returning-a-view-versus-a-copy\n",
      "  df_num.loc[df_train.emailContactable==True,'emailContactable']=1\n",
      "<ipython-input-22-ebdf7a00d565>:81: SettingWithCopyWarning: \n",
      "A value is trying to be set on a copy of a slice from a DataFrame\n",
      "\n",
      "See the caveats in the documentation: https://pandas.pydata.org/pandas-docs/stable/user_guide/indexing.html#returning-a-view-versus-a-copy\n",
      "  df_num.loc[df_train.postalContactable==True,'postalContactable']=1\n",
      "<ipython-input-22-ebdf7a00d565>:87: SettingWithCopyWarning: \n",
      "A value is trying to be set on a copy of a slice from a DataFrame\n",
      "\n",
      "See the caveats in the documentation: https://pandas.pydata.org/pandas-docs/stable/user_guide/indexing.html#returning-a-view-versus-a-copy\n",
      "  df_num.loc[df_train.numberChildren==str(i),'numberChildren']=i\n",
      "<ipython-input-22-ebdf7a00d565>:90: SettingWithCopyWarning: \n",
      "A value is trying to be set on a copy of a slice from a DataFrame\n",
      "\n",
      "See the caveats in the documentation: https://pandas.pydata.org/pandas-docs/stable/user_guide/indexing.html#returning-a-view-versus-a-copy\n",
      "  df_num.loc[df_train.numberChildren==str(i),'numberChildren']=5\n",
      "<ipython-input-22-ebdf7a00d565>:93: SettingWithCopyWarning: \n",
      "A value is trying to be set on a copy of a slice from a DataFrame\n",
      "\n",
      "See the caveats in the documentation: https://pandas.pydata.org/pandas-docs/stable/user_guide/indexing.html#returning-a-view-versus-a-copy\n",
      "  df_num.loc[df_train.numberChildren==\"4+\",'numberChildren']=5\n",
      "<ipython-input-22-ebdf7a00d565>:94: SettingWithCopyWarning: \n",
      "A value is trying to be set on a copy of a slice from a DataFrame.\n",
      "Try using .loc[row_indexer,col_indexer] = value instead\n",
      "\n",
      "See the caveats in the documentation: https://pandas.pydata.org/pandas-docs/stable/user_guide/indexing.html#returning-a-view-versus-a-copy\n",
      "  df_num['numberChildren'] = pd.to_numeric(df_num['numberChildren'])\n",
      "<ipython-input-22-ebdf7a00d565>:97: SettingWithCopyWarning: \n",
      "A value is trying to be set on a copy of a slice from a DataFrame\n",
      "\n",
      "See the caveats in the documentation: https://pandas.pydata.org/pandas-docs/stable/user_guide/indexing.html#returning-a-view-versus-a-copy\n",
      "  df_num.loc[df_train.reactivationValue==\"Lapsed\",'reactivationValue']=3\n",
      "<ipython-input-22-ebdf7a00d565>:98: SettingWithCopyWarning: \n",
      "A value is trying to be set on a copy of a slice from a DataFrame\n",
      "\n",
      "See the caveats in the documentation: https://pandas.pydata.org/pandas-docs/stable/user_guide/indexing.html#returning-a-view-versus-a-copy\n",
      "  df_num.loc[df_train.reactivationValue==\"Lapsing\",'reactivationValue']=2\n",
      "<ipython-input-22-ebdf7a00d565>:99: SettingWithCopyWarning: \n",
      "A value is trying to be set on a copy of a slice from a DataFrame\n",
      "\n",
      "See the caveats in the documentation: https://pandas.pydata.org/pandas-docs/stable/user_guide/indexing.html#returning-a-view-versus-a-copy\n",
      "  df_num.loc[df_train.reactivationValue==\"Dormant\",'reactivationValue']=1\n",
      "<ipython-input-22-ebdf7a00d565>:100: SettingWithCopyWarning: \n",
      "A value is trying to be set on a copy of a slice from a DataFrame\n",
      "\n",
      "See the caveats in the documentation: https://pandas.pydata.org/pandas-docs/stable/user_guide/indexing.html#returning-a-view-versus-a-copy\n",
      "  df_num.loc[df_train.reactivationValue==\"Active\",'reactivationValue']=4\n",
      "<ipython-input-22-ebdf7a00d565>:103: SettingWithCopyWarning: \n",
      "A value is trying to be set on a copy of a slice from a DataFrame\n",
      "\n",
      "See the caveats in the documentation: https://pandas.pydata.org/pandas-docs/stable/user_guide/indexing.html#returning-a-view-versus-a-copy\n",
      "  df_num.loc[df_train.scentLover==\"NonUser\",'scentLover']=0\n",
      "<ipython-input-22-ebdf7a00d565>:104: SettingWithCopyWarning: \n",
      "A value is trying to be set on a copy of a slice from a DataFrame\n",
      "\n",
      "See the caveats in the documentation: https://pandas.pydata.org/pandas-docs/stable/user_guide/indexing.html#returning-a-view-versus-a-copy\n",
      "  df_num.loc[df_train.scentLover==\"Low\",'scentLover']=1\n",
      "<ipython-input-22-ebdf7a00d565>:105: SettingWithCopyWarning: \n",
      "A value is trying to be set on a copy of a slice from a DataFrame\n",
      "\n",
      "See the caveats in the documentation: https://pandas.pydata.org/pandas-docs/stable/user_guide/indexing.html#returning-a-view-versus-a-copy\n",
      "  df_num.loc[df_train.scentLover==\"Medium\",'scentLover']=2\n",
      "<ipython-input-22-ebdf7a00d565>:106: SettingWithCopyWarning: \n",
      "A value is trying to be set on a copy of a slice from a DataFrame\n",
      "\n",
      "See the caveats in the documentation: https://pandas.pydata.org/pandas-docs/stable/user_guide/indexing.html#returning-a-view-versus-a-copy\n",
      "  df_num.loc[df_train.scentLover==\"High\",'scentLover']=3\n"
     ]
    },
    {
     "name": "stderr",
     "output_type": "stream",
     "text": [
      "<ipython-input-22-ebdf7a00d565>:130: SettingWithCopyWarning: \n",
      "A value is trying to be set on a copy of a slice from a DataFrame\n",
      "\n",
      "See the caveats in the documentation: https://pandas.pydata.org/pandas-docs/stable/user_guide/indexing.html#returning-a-view-versus-a-copy\n",
      "  df_num.loc[df_num.postalCode==key,'postalScore']=dic_rank[key]\n",
      "<ipython-input-28-cf01da464438>:4: SettingWithCopyWarning: \n",
      "A value is trying to be set on a copy of a slice from a DataFrame\n",
      "\n",
      "See the caveats in the documentation: https://pandas.pydata.org/pandas-docs/stable/user_guide/indexing.html#returning-a-view-versus-a-copy\n",
      "  clean_df_to_num(test,cons_actions,\"test\",path+'DS_num_test.csv',filters)\n"
     ]
    }
   ],
   "source": [
    "##### N.B : N'exécuter cette cellule que si vous avait chnagé les filtres car le calcul prend aussi entre 5-10 minutes. #####\n",
    "\n",
    "# dataset de tests (qui sera à soumettre)\n",
    "clean_df_to_num(test,cons_actions,\"test\",path+'DS_num_test.csv',filters)"
   ]
  },
  {
   "cell_type": "code",
   "execution_count": 29,
   "metadata": {},
   "outputs": [
    {
     "data": {
      "text/html": [
       "<div>\n",
       "<style scoped>\n",
       "    .dataframe tbody tr th:only-of-type {\n",
       "        vertical-align: middle;\n",
       "    }\n",
       "\n",
       "    .dataframe tbody tr th {\n",
       "        vertical-align: top;\n",
       "    }\n",
       "\n",
       "    .dataframe thead th {\n",
       "        text-align: right;\n",
       "    }\n",
       "</style>\n",
       "<table border=\"1\" class=\"dataframe\">\n",
       "  <thead>\n",
       "    <tr style=\"text-align: right;\">\n",
       "      <th></th>\n",
       "      <th>Unnamed: 0</th>\n",
       "      <th>age</th>\n",
       "      <th>emailContactable</th>\n",
       "      <th>postalContactable</th>\n",
       "      <th>numberChildren</th>\n",
       "      <th>reactivationValue</th>\n",
       "      <th>toothBrushType</th>\n",
       "      <th>petOwner</th>\n",
       "      <th>ecoInterest</th>\n",
       "      <th>postalScore</th>\n",
       "      <th>score_event</th>\n",
       "    </tr>\n",
       "  </thead>\n",
       "  <tbody>\n",
       "    <tr>\n",
       "      <th>0</th>\n",
       "      <td>0</td>\n",
       "      <td>35</td>\n",
       "      <td>1</td>\n",
       "      <td>1</td>\n",
       "      <td>5</td>\n",
       "      <td>4</td>\n",
       "      <td>0</td>\n",
       "      <td>0</td>\n",
       "      <td>3</td>\n",
       "      <td>325</td>\n",
       "      <td>0</td>\n",
       "    </tr>\n",
       "    <tr>\n",
       "      <th>1</th>\n",
       "      <td>1</td>\n",
       "      <td>45</td>\n",
       "      <td>1</td>\n",
       "      <td>1</td>\n",
       "      <td>2</td>\n",
       "      <td>2</td>\n",
       "      <td>0</td>\n",
       "      <td>1</td>\n",
       "      <td>3</td>\n",
       "      <td>65</td>\n",
       "      <td>0</td>\n",
       "    </tr>\n",
       "    <tr>\n",
       "      <th>2</th>\n",
       "      <td>2</td>\n",
       "      <td>25</td>\n",
       "      <td>0</td>\n",
       "      <td>1</td>\n",
       "      <td>1</td>\n",
       "      <td>4</td>\n",
       "      <td>0</td>\n",
       "      <td>1</td>\n",
       "      <td>0</td>\n",
       "      <td>179</td>\n",
       "      <td>0</td>\n",
       "    </tr>\n",
       "    <tr>\n",
       "      <th>3</th>\n",
       "      <td>3</td>\n",
       "      <td>65</td>\n",
       "      <td>1</td>\n",
       "      <td>1</td>\n",
       "      <td>3</td>\n",
       "      <td>4</td>\n",
       "      <td>0</td>\n",
       "      <td>0</td>\n",
       "      <td>0</td>\n",
       "      <td>53</td>\n",
       "      <td>4</td>\n",
       "    </tr>\n",
       "    <tr>\n",
       "      <th>4</th>\n",
       "      <td>4</td>\n",
       "      <td>45</td>\n",
       "      <td>1</td>\n",
       "      <td>1</td>\n",
       "      <td>2</td>\n",
       "      <td>4</td>\n",
       "      <td>0</td>\n",
       "      <td>1</td>\n",
       "      <td>2</td>\n",
       "      <td>95</td>\n",
       "      <td>7</td>\n",
       "    </tr>\n",
       "  </tbody>\n",
       "</table>\n",
       "</div>"
      ],
      "text/plain": [
       "   Unnamed: 0  age  emailContactable  postalContactable  numberChildren  \\\n",
       "0           0   35                 1                  1               5   \n",
       "1           1   45                 1                  1               2   \n",
       "2           2   25                 0                  1               1   \n",
       "3           3   65                 1                  1               3   \n",
       "4           4   45                 1                  1               2   \n",
       "\n",
       "   reactivationValue  toothBrushType  petOwner  ecoInterest  postalScore  \\\n",
       "0                  4               0         0            3          325   \n",
       "1                  2               0         1            3           65   \n",
       "2                  4               0         1            0          179   \n",
       "3                  4               0         0            0           53   \n",
       "4                  4               0         1            2           95   \n",
       "\n",
       "   score_event  \n",
       "0            0  \n",
       "1            0  \n",
       "2            0  \n",
       "3            4  \n",
       "4            7  "
      ]
     },
     "execution_count": 29,
     "metadata": {},
     "output_type": "execute_result"
    }
   ],
   "source": [
    "# dataset de tests directement utilisable\n",
    "df_test=importation(\"DS_num_test.csv\").fillna(0)\n",
    "df_test.head()"
   ]
  },
  {
   "cell_type": "code",
   "execution_count": 16,
   "metadata": {
    "tags": []
   },
   "outputs": [],
   "source": [
    "def generate_csv_submission(filename, Y):\n",
    "    \"\"\"\n",
    "    Cette fonction permet de générer un fichier csv contenant les résultats obtenus \n",
    "    afin de les soumettre sur Kaggle au bon format\n",
    "    :input: file, array\n",
    "        fichier sur lequel écrire, listes des résultats prédits (Y)\n",
    "    :output: None\n",
    "        création du fichier résultat dans le répertoire \"data\"\n",
    "    \"\"\"\n",
    "    file = open(filename + \".csv\", 'w')\n",
    "    with open(\"data/DS_Centrale_submission_sample.csv\", 'r') as filin:\n",
    "        i = 0\n",
    "        line = filin.readline()\n",
    "        file.write(line)\n",
    "        while line != \"\" and i < len(Y):\n",
    "            line = filin.readline()\n",
    "            line_splited = line.split(\",\")\n",
    "            if Y[i] == 0:\n",
    "                line_splited[1] = 'Hand\\n'\n",
    "            new_line = line_splited[0] + \",\" + line_splited[1]\n",
    "            file.write(new_line) \n",
    "            i += 1\n",
    "        file.close()       \n",
    "\n",
    "\n"
   ]
  },
  {
   "cell_type": "markdown",
   "metadata": {
    "_uuid": "3b4f28488a92917f26e9876c1880295ec9c077ed"
   },
   "source": [
    "## V. Modèle statistiques utilisés"
   ]
  },
  {
   "cell_type": "code",
   "execution_count": 62,
   "metadata": {
    "_uuid": "fe363c1be8335a48a4444660db5fa6bd0a24b71a"
   },
   "outputs": [],
   "source": [
    "from sklearn.metrics import accuracy_score,confusion_matrix,precision_score,recall_score,f1_score\n",
    "import collections"
   ]
  },
  {
   "cell_type": "markdown",
   "metadata": {
    "_uuid": "afa6b322cbc225f3353bd295aea24fe5fbbb78fe"
   },
   "source": [
    "### Logistic Regression"
   ]
  },
  {
   "cell_type": "code",
   "execution_count": 63,
   "metadata": {
    "_uuid": "9aea2f597203ccf38cd0d67ae58bff6e163dea1c"
   },
   "outputs": [
    {
     "name": "stderr",
     "output_type": "stream",
     "text": [
      "D:\\anaconda\\lib\\site-packages\\sklearn\\linear_model\\_logistic.py:762: ConvergenceWarning: lbfgs failed to converge (status=1):\n",
      "STOP: TOTAL NO. of ITERATIONS REACHED LIMIT.\n",
      "\n",
      "Increase the number of iterations (max_iter) or scale the data as shown in:\n",
      "    https://scikit-learn.org/stable/modules/preprocessing.html\n",
      "Please also refer to the documentation for alternative solver options:\n",
      "    https://scikit-learn.org/stable/modules/linear_model.html#logistic-regression\n",
      "  n_iter_i = _check_optimize_result(\n"
     ]
    }
   ],
   "source": [
    "from sklearn.linear_model import LogisticRegression\n",
    "\n",
    "lr = LogisticRegression()\n",
    "lr.fit(X_train,Y_train)\n",
    "\n",
    "Y_pred_lr = lr.predict(X_test)"
   ]
  },
  {
   "cell_type": "code",
   "execution_count": 64,
   "metadata": {
    "_uuid": "58fb833d1c74355ebdafe926968632942f377421"
   },
   "outputs": [
    {
     "data": {
      "text/plain": [
       "(2400,)"
      ]
     },
     "execution_count": 64,
     "metadata": {},
     "output_type": "execute_result"
    }
   ],
   "source": [
    "Y_pred_lr.shape"
   ]
  },
  {
   "cell_type": "code",
   "execution_count": 97,
   "metadata": {
    "_uuid": "ee4cba838316adf863f8daf131d36a970d36b839",
    "scrolled": true
   },
   "outputs": [
    {
     "name": "stdout",
     "output_type": "stream",
     "text": [
      "The accuracy score achieved using Logistic Regression is: 64.21 %\n",
      "The precision score achieved using Logistic Regression is: 26.64 %\n",
      "The recall score achieved using Logistic Regression is: 54.32 %\n",
      "The f1 score achieved using Logistic Regression is: 35.75 %\n",
      "[[1302  201]\n",
      " [ 658  239]]\n"
     ]
    }
   ],
   "source": [
    "score_lr = round(accuracy_score(Y_pred_lr,Y_test)*100,2)\n",
    "print(\"The accuracy score achieved using Logistic Regression is: \"+str(score_lr)+\" %\")\n",
    "precision_lr=round(precision_score(Y_pred_lr,Y_test)*100,2)\n",
    "print(\"The precision score achieved using Logistic Regression is: \"+str(precision_lr)+\" %\")\n",
    "recall_lr=round(recall_score(Y_pred_lr,Y_test)*100,2)\n",
    "print(\"The recall score achieved using Logistic Regression is: \"+str(recall_lr)+\" %\")\n",
    "F1_lr=round(f1_score(Y_pred_lr,Y_test)*100,2)\n",
    "print(\"The f1 score achieved using Logistic Regression is: \"+str(F1_lr)+\" %\")\n",
    "conf = confusion_matrix(Y_test,Y_pred_lr )\n",
    "print(conf)"
   ]
  },
  {
   "cell_type": "code",
   "execution_count": 35,
   "metadata": {},
   "outputs": [
    {
     "name": "stdout",
     "output_type": "stream",
     "text": [
      "Counter({0: 2722, 1: 1278})\n"
     ]
    }
   ],
   "source": [
    "df_test.shape\n",
    "Y_real_lr = lr.predict(df_test)\n",
    "print(\"Nombre de manuels (0) et d'automatiques (1) : \",collections.Counter(Y_real_lr))\n"
   ]
  },
  {
   "cell_type": "code",
   "execution_count": 100,
   "metadata": {},
   "outputs": [],
   "source": [
    "# génération du fichier csv\n",
    "#generate_csv_submission(\"data/test_lr\", Y_real_lr)"
   ]
  },
  {
   "cell_type": "markdown",
   "metadata": {
    "_uuid": "4f92fceb9584ae03d3ab370ee11899cb287be690"
   },
   "source": [
    "### Naive Bayes"
   ]
  },
  {
   "cell_type": "code",
   "execution_count": 66,
   "metadata": {
    "_uuid": "ffcdab99b4108902547f0179a242a9757078dc68"
   },
   "outputs": [
    {
     "data": {
      "text/plain": [
       "(2400,)"
      ]
     },
     "execution_count": 66,
     "metadata": {},
     "output_type": "execute_result"
    }
   ],
   "source": [
    "from sklearn.naive_bayes import GaussianNB\n",
    "\n",
    "nb = GaussianNB()\n",
    "\n",
    "nb.fit(X_train,Y_train)\n",
    "\n",
    "Y_pred_nb = nb.predict(X_test)\n",
    "Y_pred_nb.shape"
   ]
  },
  {
   "cell_type": "code",
   "execution_count": 98,
   "metadata": {
    "scrolled": true
   },
   "outputs": [
    {
     "name": "stdout",
     "output_type": "stream",
     "text": [
      "The accuracy score achieved using Naive Bayse is: 62.42 %\n",
      "The precision score achieved using Naive Bayse is: 43.92 %\n",
      "The recall score achieved using Naive Bayse is: 49.68 %\n",
      "The f1 score achieved using Naive Bayse is: 46.63 %\n",
      "[[1104  399]\n",
      " [ 503  394]]\n"
     ]
    }
   ],
   "source": [
    "score_nb = round(accuracy_score(Y_pred_nb,Y_test)*100,2)\n",
    "print(\"The accuracy score achieved using Naive Bayse is: \"+str(score_nb)+\" %\")\n",
    "precision_nb=round(precision_score(Y_pred_nb,Y_test)*100,2)\n",
    "print(\"The precision score achieved using Naive Bayse is: \"+str(precision_nb)+\" %\")\n",
    "recall_nb=round(recall_score(Y_pred_nb,Y_test)*100,2)\n",
    "print(\"The recall score achieved using Naive Bayse is: \"+str(recall_nb)+\" %\")\n",
    "F1_nb=round(f1_score(Y_pred_nb,Y_test)*100,2)\n",
    "print(\"The f1 score achieved using Naive Bayse is: \"+str(F1_nb)+\" %\")\n",
    "conf = confusion_matrix(Y_test,Y_pred_nb )\n",
    "print(conf)"
   ]
  },
  {
   "cell_type": "code",
   "execution_count": 68,
   "metadata": {
    "_uuid": "9109059d06e4c92494451b3cdab0bbb5a1816072"
   },
   "outputs": [
    {
     "name": "stdout",
     "output_type": "stream",
     "text": [
      "Nombre de manuels (0) et d'automatiques (1) :  Counter({0: 2473, 1: 1527})\n"
     ]
    }
   ],
   "source": [
    "df_test.shape\n",
    "Y_real_nb = nb.predict(df_test)\n",
    "print(\"Nombre de manuels (0) et d'automatiques (1) : \",collections.Counter(Y_real_nb))\n"
   ]
  },
  {
   "cell_type": "code",
   "execution_count": 104,
   "metadata": {},
   "outputs": [],
   "source": [
    "# Génération du fichier csv\n",
    "#generate_csv_submission(\"data/test_nb\", Y_real_nb)"
   ]
  },
  {
   "cell_type": "markdown",
   "metadata": {
    "_uuid": "2af8b010893284bae0d6cccf66ccfda646e7ca58"
   },
   "source": [
    "### SVM"
   ]
  },
  {
   "cell_type": "code",
   "execution_count": 69,
   "metadata": {
    "_uuid": "f1936ece7b76b67e552758a4c80e9421bffe0bc2"
   },
   "outputs": [],
   "source": [
    "from sklearn import svm\n",
    "\n",
    "sv = svm.SVC(kernel='rbf')\n",
    "sv.fit(X_train, Y_train)\n",
    "Y_pred_svm = sv.predict(X_test)"
   ]
  },
  {
   "cell_type": "code",
   "execution_count": 70,
   "metadata": {
    "_uuid": "36f60f104264d44760705b9c802504f426e15592"
   },
   "outputs": [
    {
     "data": {
      "text/plain": [
       "(2400,)"
      ]
     },
     "execution_count": 70,
     "metadata": {},
     "output_type": "execute_result"
    }
   ],
   "source": [
    "Y_pred_svm.shape"
   ]
  },
  {
   "cell_type": "code",
   "execution_count": 103,
   "metadata": {
    "_uuid": "f5a73bca6721f42b3983c328fd475390ba9bc4d3"
   },
   "outputs": [
    {
     "name": "stdout",
     "output_type": "stream",
     "text": [
      "The accuracy score achieved using rbf SVM is: 62.62 %\n",
      "The precision score achieved using rbf SVM is: 0.0 %\n",
      "The recall score achieved using rbf SVM is: 0.0 %\n",
      "The f1 score achieved using rbf SVM is: 0.0 %\n",
      "[[1503    0]\n",
      " [ 897    0]]\n"
     ]
    },
    {
     "name": "stderr",
     "output_type": "stream",
     "text": [
      "D:\\anaconda\\lib\\site-packages\\sklearn\\metrics\\_classification.py:1221: UndefinedMetricWarning: Recall is ill-defined and being set to 0.0 due to no true samples. Use `zero_division` parameter to control this behavior.\n",
      "  _warn_prf(average, modifier, msg_start, len(result))\n"
     ]
    }
   ],
   "source": [
    "score_svm = round(accuracy_score(Y_pred_svm,Y_test)*100,2)\n",
    "print(\"The accuracy score achieved using rbf SVM is: \"+str(score_svm)+\" %\")\n",
    "precision_svm=round(precision_score(Y_pred_svm,Y_test)*100,2)\n",
    "print(\"The precision score achieved using rbf SVM is: \"+str(precision_svm)+\" %\")\n",
    "recall_svm=round(recall_score(Y_pred_svm,Y_test)*100,2)\n",
    "print(\"The recall score achieved using rbf SVM is: \"+str(recall_svm)+\" %\")\n",
    "F1_svm=round(f1_score(Y_pred_svm,Y_test)*100,2)\n",
    "print(\"The f1 score achieved using rbf SVM is: \"+str(F1_svm)+\" %\")\n",
    "conf = confusion_matrix(Y_test,Y_pred_svm )\n",
    "print(conf)"
   ]
  },
  {
   "cell_type": "markdown",
   "metadata": {},
   "source": []
  },
  {
   "cell_type": "code",
   "execution_count": 100,
   "metadata": {},
   "outputs": [
    {
     "name": "stdout",
     "output_type": "stream",
     "text": [
      "Nombre de manuels (0) et d'automatiques (1) :  Counter({0: 4000})\n"
     ]
    }
   ],
   "source": [
    "df_test.shape\n",
    "Y_real_svm = sv.predict(df_test)\n",
    "print(\"Nombre de manuels (0) et d'automatiques (1) : \", collections.Counter(Y_real_svm))"
   ]
  },
  {
   "cell_type": "markdown",
   "metadata": {
    "_uuid": "4e26d165b57f3f7882570964f1c2dc4a548404de"
   },
   "source": [
    "### K Nearest Neighbors"
   ]
  },
  {
   "cell_type": "code",
   "execution_count": 73,
   "metadata": {
    "_uuid": "286352867c53d5fb7dac2fc9bf4b2ac58a466ad0"
   },
   "outputs": [],
   "source": [
    "from sklearn.neighbors import KNeighborsClassifier\n",
    "\n",
    "knn = KNeighborsClassifier(n_neighbors=2)\n",
    "knn.fit(X_train,Y_train)\n",
    "Y_pred_knn=knn.predict(X_test)"
   ]
  },
  {
   "cell_type": "code",
   "execution_count": 74,
   "metadata": {
    "_uuid": "bccb7c1fcec36dd2eb7eb222f49604029adec2b4"
   },
   "outputs": [
    {
     "data": {
      "text/plain": [
       "(2400,)"
      ]
     },
     "execution_count": 74,
     "metadata": {},
     "output_type": "execute_result"
    }
   ],
   "source": [
    "Y_pred_knn.shape"
   ]
  },
  {
   "cell_type": "code",
   "execution_count": 102,
   "metadata": {
    "_uuid": "dda4e8f8f18f96557cdd38cee177de0456db5f45"
   },
   "outputs": [
    {
     "name": "stdout",
     "output_type": "stream",
     "text": [
      "The accuracy score achieved using KNN is: 59.71 %\n",
      "The precision score achieved using KNN is: 17.5 %\n",
      "The recall score achieved using KNN is: 40.89 %\n",
      "The f1 score achieved using KNN is: 24.51 %\n",
      "[[1276  227]\n",
      " [ 740  157]]\n"
     ]
    }
   ],
   "source": [
    "score_knn = round(accuracy_score(Y_pred_knn,Y_test)*100,2)\n",
    "print(\"The accuracy score achieved using KNN is: \"+str(score_knn)+\" %\")\n",
    "precision_knn=round(precision_score(Y_pred_knn,Y_test)*100,2)\n",
    "print(\"The precision score achieved using KNN is: \"+str(precision_knn)+\" %\")\n",
    "recall_knn=round(recall_score(Y_pred_knn,Y_test)*100,2)\n",
    "print(\"The recall score achieved using KNN is: \"+str(recall_knn)+\" %\")\n",
    "F1_knn=round(f1_score(Y_pred_knn,Y_test)*100,2)\n",
    "print(\"The f1 score achieved using KNN is: \"+str(F1_knn)+\" %\")\n",
    "conf = confusion_matrix(Y_test,Y_pred_knn )\n",
    "print(conf)"
   ]
  },
  {
   "cell_type": "markdown",
   "metadata": {
    "_uuid": "9e663d26efb00a434751f06ad0292949eff6c358"
   },
   "source": [
    "### Random Forest"
   ]
  },
  {
   "cell_type": "code",
   "execution_count": 76,
   "metadata": {},
   "outputs": [],
   "source": [
    "from sklearn.ensemble import RandomForestClassifier\n",
    "from sklearn import metrics\n",
    "from sklearn.preprocessing import StandardScaler\n",
    "from sklearn.model_selection import GridSearchCV"
   ]
  },
  {
   "cell_type": "code",
   "execution_count": null,
   "metadata": {},
   "outputs": [],
   "source": [
    "# Optimisation des hyperparamètres à l'aide de l'outil GridSearchCV\n",
    "# NE PAS EXECUTER - 2h-3h\n",
    "param_grid = {\n",
    "    'bootstrap': [True],\n",
    "    'max_depth': [70, 80, 90, 100, 110],\n",
    "    'max_features': [2, 3, 4, 5, 6],\n",
    "    'min_samples_leaf': [10, 20, 30, 40],\n",
    "    'min_samples_split': [6, 8, 10, 12],\n",
    "    'n_estimators': np.arange(80, 240, 20)\n",
    "}# Create a based model\n",
    "\n",
    "rf = RandomForestClassifier()# Instantiate the grid search model\n",
    "grid_search = GridSearchCV(estimator = rf, param_grid = param_grid, \n",
    "                          cv = 3, n_jobs = -1, verbose = 2)\n",
    "\n",
    "grid_search.fit(X_train, Y_train)\n",
    "print(grid_search.best_params_)"
   ]
  },
  {
   "cell_type": "markdown",
   "metadata": {},
   "source": [
    "tests d'optimisation :\n",
    "test1\n",
    "param_grid = { 'bootstrap': [True], 'max_depth': [80, 90, 100, 110], 'max_features': [2, 3], 'min_samples_leaf': [3, 5, 8, 12 ], 'min_samples_split': [10, 12, 14], 'n_estimators': [10, 100, 200] }# Create a based model\n",
    "\n",
    "{'bootstrap': True, 'max_depth': 90, 'max_features': 3, 'min_samples_leaf': 12, 'min_samples_split': 10, 'n_estimators': 200}\n",
    "\n",
    "test2\n",
    "param_grid = { 'bootstrap': [True], 'max_depth': [80, 90, 100, 110], 'max_features': [2, 3], 'min_samples_leaf': [8, 12, 15, 20 ], 'min_samples_split': [8, 10, 12], 'n_estimators': [100, 200, 300] }# Create a based model\n",
    "\n",
    "{'bootstrap': True, 'max_depth': 80, 'max_features': 2, 'min_samples_leaf': 20, 'min_samples_split': 8, 'n_estimators': 100}\n",
    "\n",
    "rfc = RandomForestClassifier(n_estimators=100, min_samples_leaf = 20, min_samples_split = 8, max_features = 2, max_depth = 80)\n",
    "\n",
    "Accuracy: 0.6491666666666667 Mean Absolute Error: 0.35083333333333333 Mean Squared Error: 0.35083333333333333 Root Mean Squared Error: 0.5923118547972287\n",
    "\n",
    "test 3\n",
    "param_grid = { 'bootstrap': [True], 'max_depth': [70, 80, 90, 100, 110], 'max_features': [1, 2, 3, 4], 'min_samples_leaf': [10, 15, 20, 25, 30], 'min_samples_split': [6, 8, 10, 12], 'n_estimators': [20, 50, 100, 200, 300] }# Create a based model\n",
    "\n",
    "{'bootstrap': True, 'max_depth': 90, 'max_features': 2, 'min_samples_leaf': 30, 'min_samples_split': 10, 'n_estimators': 200}\n",
    "\n",
    "rfc = RandomForestClassifier(n_estimators=200, min_samples_leaf = 30, min_samples_split = 10, max_features = 2, max_depth = 90)\n",
    "\n",
    "Accuracy: 0.6458333333333334 Mean Absolute Error: 0.3541666666666667 Mean Squared Error: 0.3541666666666667 Root Mean Squared Error: 0.5951190357119042\n",
    "\n",
    "test 4\n",
    "param_grid = { 'bootstrap': [True], 'max_depth': [70, 80, 90, 100, 110], 'max_features': [2, 3, 4, 5, 6, 7, 8, 9], 'min_samples_leaf': [10, 20, 30, 40], 'min_samples_split': [6, 8, 10, 12], 'n_estimators': [20, 50, 100, 200, 300] }# Create a based model\n",
    "\n",
    "{'bootstrap': True, 'max_depth': 90, 'max_features': 4, 'min_samples_leaf': 10, 'min_samples_split': 12, 'n_estimators': 180}"
   ]
  },
  {
   "cell_type": "code",
   "execution_count": 104,
   "metadata": {
    "_uuid": "edc8e1cbb57be0aa9e9ad5f4997212d53a9a4c99"
   },
   "outputs": [
    {
     "name": "stdout",
     "output_type": "stream",
     "text": [
      "Accuracy: 65.04\n",
      "Mean Absolute Error: 0.34958333333333336\n",
      "Mean Squared Error: 0.34958333333333336\n",
      "Root Mean Squared Error: 0.5912557258355587\n",
      "The accuracy score achieved using Random Forest is: 65.04 %\n",
      "The precision score achieved using Random Forest is: 29.65 %\n",
      "The recall score achieved using Random Forest is: 56.12 %\n",
      "The f1 score achieved using Random Forest is: 38.8 %\n",
      "[[1295  208]\n",
      " [ 631  266]]\n"
     ]
    }
   ],
   "source": [
    "rfc = RandomForestClassifier(n_estimators=180, min_samples_leaf = 10, min_samples_split = 12, max_features = 4, max_depth = 90)\n",
    "rfc.fit(X_train,Y_train)\n",
    "y_pred_rfc =  rfc.predict(X_test)\n",
    "\n",
    "score_rf=round(metrics.accuracy_score(Y_test, y_pred_rfc)*100,2)\n",
    "print(\"Accuracy:\",score_rf)\n",
    "print('Mean Absolute Error:', metrics.mean_absolute_error(Y_test, y_pred_rfc))\n",
    "print('Mean Squared Error:', metrics.mean_squared_error(Y_test, y_pred_rfc))\n",
    "print('Root Mean Squared Error:', np.sqrt(metrics.mean_squared_error(Y_test, y_pred_rfc)))\n",
    "\n",
    "print(\"The accuracy score achieved using Random Forest is: \"+str(score_rf)+\" %\")\n",
    "precision_rf=round(precision_score(y_pred_rfc,Y_test)*100,2)\n",
    "print(\"The precision score achieved using Random Forest is: \"+str(precision_rf)+\" %\")\n",
    "recall_rf=round(recall_score(y_pred_rfc,Y_test)*100,2)\n",
    "print(\"The recall score achieved using Random Forest is: \"+str(recall_rf)+\" %\")\n",
    "F1_rf=round(f1_score(y_pred_rfc,Y_test)*100,2)\n",
    "print(\"The f1 score achieved using Random Forest is: \"+str(F1_rf)+\" %\")\n",
    "conf = confusion_matrix(Y_test,y_pred_rfc )\n",
    "print(conf)"
   ]
  },
  {
   "cell_type": "code",
   "execution_count": 78,
   "metadata": {
    "_uuid": "965228f30e05e07e7960a3375dc7dc85b49caed7"
   },
   "outputs": [
    {
     "name": "stdout",
     "output_type": "stream",
     "text": [
      "Nombre de manuels (0) et d'automatiques (1) :  Counter({0: 2643, 1: 1357})\n"
     ]
    }
   ],
   "source": [
    "# Calcul sur l'échantillon de test\n",
    "Y_test_pred_rf = rfc.predict(df_test)\n",
    "print(\"Nombre de manuels (0) et d'automatiques (1) : \",collections.Counter(Y_test_pred_rf))\n",
    "\n",
    "# Génération du fichier CSV\n",
    "generate_csv_submission(\"data/randomforest_gridsearchcv_12feats_eaudures_22\", Y_test_pred_rf)"
   ]
  },
  {
   "cell_type": "markdown",
   "metadata": {
    "_uuid": "6a0fc13a6c2fccd6a725a7691cfe95d74348a8ae"
   },
   "source": [
    "### XGBoost"
   ]
  },
  {
   "cell_type": "code",
   "execution_count": 79,
   "metadata": {},
   "outputs": [],
   "source": [
    "import xgboost as xgb\n",
    "from sklearn.model_selection import GridSearchCV"
   ]
  },
  {
   "cell_type": "code",
   "execution_count": null,
   "metadata": {},
   "outputs": [],
   "source": [
    "# Optimisation des hyperparamètres à l'aide de l'outil GridSearchCV\n",
    "# NE PAS EXECUTER - 10h\n",
    "\n",
    "estimator = xgb.XGBClassifier(\n",
    "    objective= 'binary:logistic',\n",
    ")\n",
    "\n",
    "\n",
    "parameters = {\n",
    "    'max_depth': range (2, 10, 1),\n",
    "    'n_estimators': range(60, 220, 40),\n",
    "    'learning_rate': [0.1, 0.01, 0.05],\n",
    "    'seed' : np.arange(30,50,2),\n",
    "    'nthread' : np.arange(2,6,1)\n",
    "}\n",
    "\n",
    "grid_search = GridSearchCV(\n",
    "    estimator=estimator,\n",
    "    param_grid=parameters,\n",
    "    scoring = 'roc_auc',\n",
    "    n_jobs = 10,\n",
    "    cv = 10,\n",
    "    verbose=True\n",
    ")\n",
    "\n",
    "grid_search.fit(X_train, Y_train)\n",
    "\n",
    "\n",
    "print(grid_search.best_estimator_)\n",
    "print(grid_search.best_params_)"
   ]
  },
  {
   "cell_type": "markdown",
   "metadata": {},
   "source": [
    "* test1\n",
    "\n",
    "parameters = {\n",
    "    'max_depth': range (2, 10, 1),\n",
    "    'n_estimators': range(100, 1000, 50),\n",
    "    'learning_rate': [0.1, 0.01, 0.05]\n",
    "}\n",
    "\n",
    "{'colsample_bytree': 0.72, 'eta': 0.1, 'gamma': 5, 'min_child_weight': 4.0, 'subsample': 0.72}\n",
    "\n",
    "{'learning_rate': 0.1, 'max_depth': 2, 'n_estimators': 100, 'nthread': 2, 'seed': 30}"
   ]
  },
  {
   "cell_type": "code",
   "execution_count": 80,
   "metadata": {},
   "outputs": [
    {
     "name": "stderr",
     "output_type": "stream",
     "text": [
      "D:\\anaconda\\lib\\site-packages\\xgboost\\sklearn.py:1146: UserWarning: The use of label encoder in XGBClassifier is deprecated and will be removed in a future release. To remove this warning, do the following: 1) Pass option use_label_encoder=False when constructing XGBClassifier object; and 2) Encode your labels (y) as integers starting with 0, i.e. 0, 1, 2, ..., [num_class - 1].\n",
      "  warnings.warn(label_encoder_deprecation_msg, UserWarning)\n"
     ]
    },
    {
     "name": "stdout",
     "output_type": "stream",
     "text": [
      "[09:58:53] WARNING: C:/Users/Administrator/workspace/xgboost-win64_release_1.4.0/src/learner.cc:573: \n",
      "Parameters: { \"n_estimator\" } might not be used.\n",
      "\n",
      "  This may not be accurate due to some parameters are only used in language bindings but\n",
      "  passed down to XGBoost core.  Or some parameters are not used but slip through this\n",
      "  verification. Please open an issue if you find above cases.\n",
      "\n",
      "\n",
      "[09:58:53] WARNING: C:/Users/Administrator/workspace/xgboost-win64_release_1.4.0/src/learner.cc:1095: Starting in XGBoost 1.3.0, the default evaluation metric used with the objective 'binary:logistic' was changed from 'error' to 'logloss'. Explicitly set eval_metric if you'd like to restore the old behavior.\n"
     ]
    },
    {
     "data": {
      "text/plain": [
       "(2400,)"
      ]
     },
     "execution_count": 80,
     "metadata": {},
     "output_type": "execute_result"
    }
   ],
   "source": [
    "xgb_model = xgb.XGBClassifier(objective= 'binary:logistic',\n",
    "    nthread=2,\n",
    "    seed=42,\n",
    "    colsample_bytree = 0.72,\n",
    "    eta = 0.1,\n",
    "    gamma = 5,\n",
    "    min_child_weight = 4.0,\n",
    "    subsample = 0.72,\n",
    "    max_depth = 3,\n",
    "    n_estimator = 100,\n",
    "    learning_rate = 0.05\n",
    ")\n",
    "\n",
    "xgb_model.fit(X_train, Y_train)\n",
    "\n",
    "Y_pred_xgb = xgb_model.predict(X_test)\n",
    "Y_pred_xgb.shape"
   ]
  },
  {
   "cell_type": "code",
   "execution_count": 105,
   "metadata": {},
   "outputs": [
    {
     "name": "stdout",
     "output_type": "stream",
     "text": [
      "The accuracy score achieved using XGBoost is: 65.58 %\n",
      "The precision score achieved using XGBoost is: 27.09 %\n",
      "The recall score achieved using XGBoost is: 58.55 %\n",
      "The f1 score achieved using XGBoost is: 37.04 %\n",
      "[[1331  172]\n",
      " [ 654  243]]\n",
      "Counter({0: 1985, 1: 415})\n",
      "[[1331  172]\n",
      " [ 654  243]]\n",
      "Counter({0: 2805, 1: 1195})\n"
     ]
    }
   ],
   "source": [
    "score_xgb = round(accuracy_score(Y_pred_xgb,Y_test)*100,2)\n",
    "print(\"The accuracy score achieved using XGBoost is: \"+str(score_xgb)+\" %\")\n",
    "precision_xgb=round(precision_score(Y_pred_xgb,Y_test)*100,2)\n",
    "print(\"The precision score achieved using XGBoost is: \"+str(precision_xgb)+\" %\")\n",
    "recall_xgb=round(recall_score(Y_pred_xgb,Y_test)*100,2)\n",
    "print(\"The recall score achieved using XGBoost is: \"+str(recall_xgb)+\" %\")\n",
    "F1_xgb=round(f1_score(Y_pred_xgb,Y_test)*100,2)\n",
    "print(\"The f1 score achieved using XGBoost is: \"+str(F1_xgb)+\" %\")\n",
    "conf = confusion_matrix(Y_test,Y_pred_xgb )\n",
    "print(conf)\n",
    "\n",
    "\n",
    "\n",
    "print(collections.Counter(Y_pred_xgb))\n",
    "\n",
    "Y_test_pred_xgb = xgb_model.predict(df_test)\n",
    "print(confusion_matrix(Y_test, Y_pred_xgb))\n",
    "print(collections.Counter(Y_test_pred_xgb))\n",
    "\n",
    "# Génération des fichiers csv\n",
    "generate_csv_submission(\"data/xgboost_12feats_xgboost_22\", Y_test_pred_xgb)"
   ]
  },
  {
   "cell_type": "markdown",
   "metadata": {
    "_uuid": "e224ab23f275a3a56cdba6a9ccfddbd6a4d3b4fd"
   },
   "source": [
    "### Neural Network"
   ]
  },
  {
   "cell_type": "code",
   "execution_count": 82,
   "metadata": {
    "_uuid": "727b391ad6d86468a96e93dc645ade6e2da4048e"
   },
   "outputs": [],
   "source": [
    "from sklearn.neural_network import MLPClassifier\n",
    "from sklearn.model_selection import cross_val_score\n",
    "from sklearn.model_selection import GridSearchCV"
   ]
  },
  {
   "cell_type": "code",
   "execution_count": null,
   "metadata": {},
   "outputs": [],
   "source": [
    "# Optimisation des hyperparamètres à l'aide de l'outil GridSearchCV\n",
    "# NE PAS EXECUTER - 2h-3h\n",
    "\n",
    "param_grid_mlpc = {\n",
    "    'solver': ['lbfgs'], \n",
    "    'max_iter': [1000,2000,5000], \n",
    "    'hidden_layer_sizes' : np.arange(40, 50, 1), \n",
    "    'random_state':[0,1,2,3],\n",
    "    'activation': ['logistic', 'tanh']\n",
    "}\n",
    "\n",
    "\n",
    "clf = MLPClassifier(alpha=1e-5)\n",
    "grid_search_mlpc = GridSearchCV(estimator = clf, param_grid = param_grid_mlpc, \n",
    "                          cv = 3, n_jobs = -1, verbose = 2)\n",
    "\n",
    "grid_search_mlpc.fit(X_train, Y_train)\n",
    "\n",
    "print(grid_search_mlpc.best_params_)"
   ]
  },
  {
   "cell_type": "code",
   "execution_count": null,
   "metadata": {},
   "outputs": [],
   "source": [
    "# Optimisation de l'hyperparamètre lié au nombre de couches cachée à l'aide de l'outil GridSearchCV\n",
    "# NE PAS EXECUTER - 2h-3h\n",
    "\n",
    "hidden_layer_sizes_liste = []\n",
    "for i in range(1,30):\n",
    "    hidden_layer_sizes_liste.append((42,i))\n",
    "\n",
    "print(hidden_layer_sizes_liste)\n",
    "\n",
    "param_grid_mlpc_2 = {\n",
    "    'hidden_layer_sizes' : hidden_layer_sizes_liste, \n",
    "}\n",
    "\n",
    "\n",
    "clf = MLPClassifier(solver='lbfgs', alpha=1e-5, hidden_layer_sizes=(42,17), random_state=3, max_iter=1000, activation = 'logistic')\n",
    "grid_search_mlpc = GridSearchCV(estimator = clf, param_grid = param_grid_mlpc_2, \n",
    "                          cv = 3, n_jobs = -1, verbose = 2)\n",
    "\n",
    "grid_search_mlpc.fit(X_train, Y_train)\n",
    "\n",
    "print(grid_search_mlpc.best_params_)"
   ]
  },
  {
   "cell_type": "markdown",
   "metadata": {},
   "source": [
    "#### tests d'optimisation :\n",
    "\n",
    "* test1\n",
    "\n",
    "param_grid_mlpc = { 'solver': 'lbfgs', 'sgd', 'adam', 'max_iter': 100,1000,2000, 3000, 'hidden_layer_sizes' : np.arange(3, 9, 3), 'random_state':0,1,2,5, 'activation': 'logistic', 'tanh', 'relu' }\n",
    "\n",
    "{'activation': 'logistic', 'hidden_layer_sizes': 6, 'max_iter': 1000, 'random_state': 1, 'solver': 'lbfgs'}\n",
    "\n",
    "* test2\n",
    "\n",
    "param_grid_mlpc = { 'solver': 'lbfgs', 'max_iter': 1000, 3000, 5000, 'hidden_layer_sizes' : np.arange(3, 46, 3), 'random_state':0,1,2,5,10, 'activation': 'logistic', 'tanh', 'relu' }\n",
    "\n",
    "{'activation': 'tanh', 'hidden_layer_sizes': 45, 'max_iter': 1000, 'random_state': 2, 'solver': 'lbfgs'}\n",
    "\n",
    "* test3\n",
    "\n",
    "param_grid_mlpc = { 'solver': 'lbfgs', 'max_iter': 1000, 'hidden_layer_sizes' : np.arange(40, 50, 1), 'random_state':0,1,2, 'activation': 'logistic', 'tanh' } {'activation': 'tanh', 'hidden_layer_sizes': 45, 'max_iter': 1000, 'random_state': 2, 'solver': 'lbfgs'}\n",
    "\n",
    "clf = MLPClassifier(solver='lbfgs', alpha=1e-5, hidden_layer_sizes=(43,11), random_state=2, max_iter=1000, activation = 'tanh')\n",
    "\n",
    "Counter({0: 1931, 1: 469})\n",
    "\n",
    "0.6516666666666666 [1299 204]\n",
    "\n",
    "* test4\n",
    "\n",
    "param_grid_mlpc = { 'solver': 'lbfgs', 'max_iter': 1000,2000,5000, 'hidden_layer_sizes' : np.arange(40, 50, 1), 'random_state':0,1,2,3, 'activation': 'logistic', 'tanh' }\n",
    "\n",
    "{'activation': 'logistic', 'hidden_layer_sizes': 42, 'max_iter': 1000, 'random_state': 3, 'solver': 'lbfgs'}\n",
    "\n",
    "Counter({0: 1900, 1: 500}) 0.6520833333333333 [1284 219]\n",
    "\n",
    "* test5\n",
    "param_grid_mlpc_2 = { 'hidden_layer_sizes' : hidden_layer_sizes_liste, }\n",
    "\n",
    "{'hidden_layer_sizes': (42, 24)}"
   ]
  },
  {
   "cell_type": "code",
   "execution_count": 106,
   "metadata": {},
   "outputs": [
    {
     "name": "stdout",
     "output_type": "stream",
     "text": [
      "The accuracy score achieved using Neural Network is: 64.5 %\n",
      "The precision score achieved using Neural Network is: 22.85 %\n",
      "The recall score achieved using Neural Network is: 56.16 %\n",
      "The f1 score achieved using Neural Network is: 32.49 %\n",
      "[[1343  160]\n",
      " [ 692  205]]\n",
      "Counter({0: 2035, 1: 365})\n",
      "64.5\n",
      "[[1343  160]\n",
      " [ 692  205]]\n"
     ]
    },
    {
     "name": "stderr",
     "output_type": "stream",
     "text": [
      "D:\\anaconda\\lib\\site-packages\\sklearn\\neural_network\\_multilayer_perceptron.py:471: ConvergenceWarning: lbfgs failed to converge (status=1):\n",
      "STOP: TOTAL NO. of ITERATIONS REACHED LIMIT.\n",
      "\n",
      "Increase the number of iterations (max_iter) or scale the data as shown in:\n",
      "    https://scikit-learn.org/stable/modules/preprocessing.html\n",
      "  self.n_iter_ = _check_optimize_result(\"lbfgs\", opt_res, self.max_iter)\n"
     ]
    }
   ],
   "source": [
    "clf = MLPClassifier(solver='lbfgs', alpha=1e-5, hidden_layer_sizes=(42,11), random_state=3, max_iter=1000, activation = 'logistic')\n",
    "\n",
    "clf.fit(X_train, Y_train)\n",
    "\n",
    "predictions = clf.predict(X_test)\n",
    "score_nn=round(accuracy_score(Y_test, predictions)*100,2)\n",
    "print(\"The accuracy score achieved using Neural Network is: \"+str(score_nn)+\" %\")\n",
    "precision_nn=round(precision_score(predictions,Y_test)*100,2)\n",
    "print(\"The precision score achieved using Neural Network is: \"+str(precision_nn)+\" %\")\n",
    "recall_nn=round(recall_score(predictions,Y_test)*100,2)\n",
    "print(\"The recall score achieved using Neural Network is: \"+str(recall_nn)+\" %\")\n",
    "F1_nn=round(f1_score(predictions,Y_test)*100,2)\n",
    "print(\"The f1 score achieved using Neural Network is: \"+str(F1_nn)+\" %\")\n",
    "conf = confusion_matrix(Y_test,predictions )\n",
    "print(conf)\n",
    "\n",
    "\n",
    "\n",
    "print(collections.Counter(predictions))\n",
    "print(score_nn)\n",
    "print(confusion_matrix(Y_test, predictions))"
   ]
  },
  {
   "cell_type": "code",
   "execution_count": 84,
   "metadata": {},
   "outputs": [
    {
     "name": "stdout",
     "output_type": "stream",
     "text": [
      "Nombre de manuels (0) et d'automatiques (1) :  Counter({0: 2857, 1: 1143})\n"
     ]
    }
   ],
   "source": [
    "# Calcul sur l'échantillon de test\n",
    "Y_test_pred = clf.predict(df_test)\n",
    "print(\"Nombre de manuels (0) et d'automatiques (1) : \", collections.Counter(Y_test_pred))\n",
    "\n",
    "# Génération du fichier csv\n",
    "#generate_csv_submission(\"data/res_neuronnes_12feats_qualite_eau_gridsearchcv_logitic_23\", Y_test_pred)"
   ]
  },
  {
   "cell_type": "markdown",
   "metadata": {
    "_uuid": "c634cd922d716d350f6db0244772260cc598dec4"
   },
   "source": [
    "## VI. Scores d'évaluation"
   ]
  },
  {
   "cell_type": "code",
   "execution_count": 94,
   "metadata": {
    "_uuid": "101daa51242624c49bb8b3198d9d2c9f8f1c596e"
   },
   "outputs": [
    {
     "name": "stdout",
     "output_type": "stream",
     "text": [
      "The accuracy score achieved using Logistic Regression is: 64.21 %\n",
      "The accuracy score achieved using Naive Bayes is: 62.42 %\n",
      "The accuracy score achieved using Support Vector Machine is: 62.62 %\n",
      "The accuracy score achieved using K-Nearest Neighbors is: 59.71 %\n",
      "The accuracy score achieved using Random Forest is: 65.21 %\n",
      "The accuracy score achieved using XGBoost is: 65.58 %\n",
      "The accuracy score achieved using Neural Network is: 64.5 %\n"
     ]
    }
   ],
   "source": [
    "scores = [score_lr,score_nb,score_svm,score_knn,score_rf,score_xgb,score_nn]\n",
    "algorithms = [\"Logistic Regression\",\"Naive Bayes\",\"Support Vector Machine\",\"K-Nearest Neighbors\",\"Random Forest\",\"XGBoost\",\"Neural Network\"]    \n",
    "\n",
    "for i in range(len(algorithms)):\n",
    "    print(\"The accuracy score achieved using \"+algorithms[i]+\" is: \"+str(scores[i])+\" %\")"
   ]
  },
  {
   "cell_type": "code",
   "execution_count": 95,
   "metadata": {
    "_uuid": "8060c7d426f9f7b64772f37e0a74ededca16838d",
    "scrolled": true
   },
   "outputs": [
    {
     "data": {
      "text/plain": [
       "<matplotlib.axes._subplots.AxesSubplot at 0x1eddbfcaaf0>"
      ]
     },
     "execution_count": 95,
     "metadata": {},
     "output_type": "execute_result"
    },
    {
     "data": {
      "image/png": "[encoded data removed]",
      "text/plain": [
       "<Figure size 1080x576 with 1 Axes>"
      ]
     },
     "metadata": {},
     "output_type": "display_data"
    }
   ],
   "source": [
    "sns.set(rc={'figure.figsize':(15,8)})\n",
    "plt.xlabel(\"Algorithms\")\n",
    "plt.ylabel(\"Accuracy score\")\n",
    "\n",
    "sns.barplot(algorithms,scores)"
   ]
  },
  {
   "cell_type": "code",
   "execution_count": 111,
   "metadata": {},
   "outputs": [
    {
     "name": "stdout",
     "output_type": "stream",
     "text": [
      "The precision score achieved using Logistic Regression is: 26.64 %\n",
      "The precision score achieved using Naive Bayes is: 43.92 %\n",
      "The precision score achieved using Support Vector Machine is: 0.0 %\n",
      "The precision score achieved using K-Nearest Neighbors is: 17.5 %\n",
      "The precision score achieved using Random Forest is: 29.65 %\n",
      "The precision score achieved using XGBoost is: 27.09 %\n",
      "The precision score achieved using Neural Network is: 22.85 %\n"
     ]
    },
    {
     "data": {
      "text/plain": [
       "<matplotlib.axes._subplots.AxesSubplot at 0x1edf4f98970>"
      ]
     },
     "execution_count": 111,
     "metadata": {},
     "output_type": "execute_result"
    },
    {
     "data": {
      "image/png": "[encoded data removed]",
      "text/plain": [
       "<Figure size 1080x576 with 1 Axes>"
      ]
     },
     "metadata": {},
     "output_type": "display_data"
    }
   ],
   "source": [
    "scores = [precision_lr,precision_nb,precision_svm,precision_knn,precision_rf,precision_xgb,precision_nn]\n",
    "algorithms = [\"Logistic Regression\",\"Naive Bayes\",\"Support Vector Machine\",\"K-Nearest Neighbors\",\"Random Forest\",\"XGBoost\",\"Neural Network\"]    \n",
    "\n",
    "for i in range(len(algorithms)):\n",
    "    print(\"The precision score achieved using \"+algorithms[i]+\" is: \"+str(scores[i])+\" %\")\n",
    "    \n",
    "sns.set(rc={'figure.figsize':(15,8)})\n",
    "plt.xlabel(\"Algorithms\")\n",
    "plt.ylabel(\"Precision score\")\n",
    "\n",
    "sns.barplot(algorithms,scores)"
   ]
  },
  {
   "cell_type": "code",
   "execution_count": 108,
   "metadata": {},
   "outputs": [
    {
     "name": "stdout",
     "output_type": "stream",
     "text": [
      "The recall score achieved using Logistic Regression is: 54.32 %\n",
      "The recall score achieved using Naive Bayes is: 49.68 %\n",
      "The recall score achieved using Support Vector Machine is: 0.0 %\n",
      "The recall score achieved using K-Nearest Neighbors is: 40.89 %\n",
      "The recall score achieved using Random Forest is: 56.12 %\n",
      "The recall score achieved using XGBoost is: 58.55 %\n",
      "The recall score achieved using Neural Network is: 56.16 %\n"
     ]
    },
    {
     "data": {
      "text/plain": [
       "<matplotlib.axes._subplots.AxesSubplot at 0x1edf4f37220>"
      ]
     },
     "execution_count": 108,
     "metadata": {},
     "output_type": "execute_result"
    },
    {
     "data": {
      "image/png": "[encoded data removed]",
      "text/plain": [
       "<Figure size 1080x576 with 1 Axes>"
      ]
     },
     "metadata": {},
     "output_type": "display_data"
    }
   ],
   "source": [
    "scores = [recall_lr,recall_nb,recall_svm,recall_knn,recall_rf,recall_xgb,recall_nn]\n",
    "algorithms = [\"Logistic Regression\",\"Naive Bayes\",\"Support Vector Machine\",\"K-Nearest Neighbors\",\"Random Forest\",\"XGBoost\",\"Neural Network\"]    \n",
    "\n",
    "for i in range(len(algorithms)):\n",
    "    print(\"The recall score achieved using \"+algorithms[i]+\" is: \"+str(scores[i])+\" %\")\n",
    "    \n",
    "sns.set(rc={'figure.figsize':(15,8)})\n",
    "plt.xlabel(\"Algorithms\")\n",
    "plt.ylabel(\"Recall score\")\n",
    "\n",
    "sns.barplot(algorithms,scores)"
   ]
  },
  {
   "cell_type": "code",
   "execution_count": 110,
   "metadata": {
    "scrolled": false
   },
   "outputs": [
    {
     "name": "stdout",
     "output_type": "stream",
     "text": [
      "The f1 score achieved using Logistic Regression is: 35.75 %\n",
      "The f1 score achieved using Naive Bayes is: 46.63 %\n",
      "The f1 score achieved using Support Vector Machine is: 0.0 %\n",
      "The f1 score achieved using K-Nearest Neighbors is: 24.51 %\n",
      "The f1 score achieved using Random Forest is: 38.8 %\n",
      "The f1 score achieved using XGBoost is: 37.04 %\n",
      "The f1 score achieved using Neural Network is: 32.49 %\n"
     ]
    },
    {
     "data": {
      "text/plain": [
       "<matplotlib.axes._subplots.AxesSubplot at 0x1edf4fa2760>"
      ]
     },
     "execution_count": 110,
     "metadata": {},
     "output_type": "execute_result"
    },
    {
     "data": {
      "image/png": "[encoded data removed]",
      "text/plain": [
       "<Figure size 1080x576 with 1 Axes>"
      ]
     },
     "metadata": {},
     "output_type": "display_data"
    }
   ],
   "source": [
    "scores = [F1_lr,F1_nb,F1_svm,F1_knn,F1_rf,F1_xgb,F1_nn]\n",
    "algorithms = [\"Logistic Regression\",\"Naive Bayes\",\"Support Vector Machine\",\"K-Nearest Neighbors\",\"Random Forest\",\"XGBoost\",\"Neural Network\"]    \n",
    "\n",
    "for i in range(len(algorithms)):\n",
    "    print(\"The f1 score achieved using \"+algorithms[i]+\" is: \"+str(scores[i])+\" %\")\n",
    "    \n",
    "sns.set(rc={'figure.figsize':(15,8)})\n",
    "plt.xlabel(\"Algorithms\")\n",
    "plt.ylabel(\"F1 score\")\n",
    "\n",
    "sns.barplot(algorithms,scores)"
   ]
  },
  {
   "cell_type": "markdown",
   "metadata": {},
   "source": [
    "## Résumé des scores"
   ]
  },
  {
   "cell_type": "code",
   "execution_count": 112,
   "metadata": {},
   "outputs": [
    {
     "name": "stdout",
     "output_type": "stream",
     "text": [
      "[0 1 2 3 4 5]\n"
     ]
    },
    {
     "data": {
      "image/png": "[encoded data removed]",
      "text/plain": [
       "<Figure size 1080x576 with 1 Axes>"
      ]
     },
     "metadata": {},
     "output_type": "display_data"
    }
   ],
   "source": [
    "barWidth = 0.2\n",
    "\n",
    "fig = plt.subplots(figsize=(15, 8))\n",
    "\n",
    "\n",
    "\n",
    "# set height of bar\n",
    "\n",
    "Accuracy = [65.21, 64.5, 65.58, 64.21, 62.42, 62.62]\n",
    "\n",
    "Rappel = [56.12, 56.16, 58.55, 54.32, 49.68, 40.4]\n",
    "\n",
    "Precision = [29.65, 22.85, 27.09, 26.64, 43.92, 20.83]\n",
    "\n",
    "Mesure_F1 = [38.8, 32.49, 37.04, 35.75, 46.63, 27.49]\n",
    "\n",
    "\n",
    "\n",
    "\n",
    "# Set position of bar on X axis\n",
    "\n",
    "br1 = np.arange(len(Accuracy))\n",
    "\n",
    "br2 = [x + barWidth for x in br1]\n",
    "\n",
    "br3 = [x + barWidth for x in br2]\n",
    "\n",
    "br4 = [x + barWidth for x in br3]\n",
    "\n",
    "print(br1)\n",
    "\n",
    "\n",
    "\n",
    "# Make the plot\n",
    "\n",
    "plt.bar(br1, Accuracy, color='r', width=barWidth,\n",
    "\n",
    "        edgecolor='grey', label='Accuracy')\n",
    "\n",
    "plt.bar(br2, Rappel, color='g', width=barWidth,\n",
    "\n",
    "        edgecolor='grey', label='Recall')\n",
    "\n",
    "plt.bar(br3, Precision, color='b', width=barWidth,\n",
    "\n",
    "        edgecolor='grey', label='Precision')\n",
    "\n",
    "plt.bar(br4, Mesure_F1, color='yellow', width=barWidth,\n",
    "\n",
    "        edgecolor='grey', label='F1-measure')\n",
    "\n",
    "\n",
    "\n",
    "# Adding Xticks\n",
    "\n",
    "plt.xticks([r + 0.1 + barWidth for r in range(len(Accuracy))],\n",
    "\n",
    "           ['Random Forest', 'Neural Network', 'XGBoost', 'Logistic Regression', 'Naive Bayes', 'SVM'])\n",
    "\n",
    "plt.xticks(fontsize=15)\n",
    "\n",
    "\n",
    "\n",
    "plt.legend(prop={'size': 14})\n",
    "\n",
    "plt.show()"
   ]
  },
  {
   "cell_type": "markdown",
   "metadata": {},
   "source": [
    "## VII. BONUS"
   ]
  },
  {
   "cell_type": "code",
   "execution_count": 40,
   "metadata": {},
   "outputs": [],
   "source": [
    "def cluster_df_to_num(df_cons_act,filename):\n",
    "    \"\"\"\n",
    "    Cette fonction permet de générer un dataframe avec des données numériques \n",
    "    en appliquant différentes métriques pour chaque feature du dataset 'consumeractions'\n",
    "    :input: dataframe, dataframe, str\n",
    "        nous avons comme entrées le dataset 'consumeractions' à transformer numériquemement, et le nom du fichier \n",
    "        pour écrire le tableau obtenu\n",
    "        \n",
    "    :output: \n",
    "        génération d'un fichier csv pour le clustering\n",
    "    \"\"\"\n",
    "    \n",
    "    L_userId=df_cons_act['userId'].unique()\n",
    "    n=len(L_userId)\n",
    "    \n",
    "    df_num=pd.DataFrame(columns=['userId','emailOpened','emailClicked','productReviewed','searchSite','RCAD','RCP','couponRed','score_event'],index=range(n))\n",
    "    \n",
    "    dic_score_events={}\n",
    "    dic_EO={}\n",
    "    dic_EC={}\n",
    "    dic_PR={}\n",
    "    dic_SS={}\n",
    "    dic_RCAD={}\n",
    "    dic_RCP={}\n",
    "    dic_CP={}\n",
    "    \n",
    "    for i in range(len(L_userId)):\n",
    "        df_num.at[i,'userId']=L_userId[i]\n",
    "        dic_score_events[L_userId[i]]=0\n",
    "        dic_EO[L_userId[i]]=0\n",
    "        dic_EC[L_userId[i]]=0\n",
    "        dic_PR[L_userId[i]]=0\n",
    "        dic_SS[L_userId[i]]=0\n",
    "        dic_RCAD[L_userId[i]]=0\n",
    "        dic_RCP[L_userId[i]]=0\n",
    "        dic_CP[L_userId[i]]=0\n",
    "    \n",
    "    for i in range(len(df_cons_act)):\n",
    "        \n",
    "        event=df_cons_act.iloc[i]['event']\n",
    "        tokens=event.split()\n",
    "        \n",
    "        if \"Email\" in tokens:\n",
    "            if \"Opened\" in tokens:\n",
    "                dic_EO[df_cons_act.iloc[i]['userId']]+=1\n",
    "            #email clicked\n",
    "            else:\n",
    "                dic_EC[df_cons_act.iloc[i]['userId']]+=1\n",
    "        if \"Product\" in tokens: #Product Reviewed\n",
    "            dic_PR[df_cons_act.iloc[i]['userId']]+=1\n",
    "        if \"Search\" in tokens: #Search site\n",
    "            dic_SS[df_cons_act.iloc[i]['userId']]+=1\n",
    "        if \"Coupon\" in tokens:\n",
    "            if \"Request\" in tokens:\n",
    "                if \"Print\" in tokens:\n",
    "                    dic_RCP[df_cons_act.iloc[i]['userId']]+=1\n",
    "                #Request Coupon Add-to-basket\n",
    "                else:\n",
    "                    dic_RCAD[df_cons_act.iloc[i]['userId']]+=1\n",
    "        else:\n",
    "            dic_CP[df_cons_act.iloc[i]['userId']]+=1\n",
    "            \n",
    "        dic_score_events[df_cons_act.iloc[i]['userId']] += score_event(event)\n",
    "\n",
    "    for keyID in dic_score_events:\n",
    "        \n",
    "        df_num.loc[df_num['userId']==keyID,'score_event']=dic_score_events[keyID]\n",
    "        df_num.loc[df_num['userId']==keyID,'emailOpened']=dic_EO[keyID]\n",
    "        df_num.loc[df_num['userId']==keyID,'emailClicked']=dic_EC[keyID]\n",
    "        df_num.loc[df_num['userId']==keyID,'productReviewed']=dic_PR[keyID]\n",
    "        df_num.loc[df_num['userId']==keyID,'searchSite']=dic_SS[keyID]\n",
    "        df_num.loc[df_num['userId']==keyID,'RCAD']=dic_RCAD[keyID]\n",
    "        df_num.loc[df_num['userId']==keyID,'RCP']=dic_RCP[keyID]\n",
    "        df_num.loc[df_num['userId']==keyID,'couponRed']=dic_CP[keyID]\n",
    "               \n",
    "\n",
    "    f = open(filename, 'r+')\n",
    "    f.truncate(0)\n",
    "    df_num.to_csv(filename)\n",
    "    "
   ]
  },
  {
   "cell_type": "code",
   "execution_count": 41,
   "metadata": {},
   "outputs": [],
   "source": [
    "##### N.B : N'exécuter cette cellule que si vous avait changé les features ou métriques car le calcul prend aussi entre 5-10 minutes. #####\n",
    "\n",
    "\n",
    "cluster_df_to_num(cons_actions,path+'DS_num_Clustering_Bonus.csv')"
   ]
  },
  {
   "cell_type": "code",
   "execution_count": 42,
   "metadata": {},
   "outputs": [
    {
     "data": {
      "text/html": [
       "<div>\n",
       "<style scoped>\n",
       "    .dataframe tbody tr th:only-of-type {\n",
       "        vertical-align: middle;\n",
       "    }\n",
       "\n",
       "    .dataframe tbody tr th {\n",
       "        vertical-align: top;\n",
       "    }\n",
       "\n",
       "    .dataframe thead th {\n",
       "        text-align: right;\n",
       "    }\n",
       "</style>\n",
       "<table border=\"1\" class=\"dataframe\">\n",
       "  <thead>\n",
       "    <tr style=\"text-align: right;\">\n",
       "      <th></th>\n",
       "      <th>Unnamed: 0</th>\n",
       "      <th>userId</th>\n",
       "      <th>emailOpened</th>\n",
       "      <th>emailClicked</th>\n",
       "      <th>productReviewed</th>\n",
       "      <th>searchSite</th>\n",
       "      <th>RCAD</th>\n",
       "      <th>RCP</th>\n",
       "      <th>couponRed</th>\n",
       "      <th>score_event</th>\n",
       "    </tr>\n",
       "  </thead>\n",
       "  <tbody>\n",
       "    <tr>\n",
       "      <th>0</th>\n",
       "      <td>0</td>\n",
       "      <td>use_bw7Dd2MM9RLPaulrFsQ1TzdmFsi</td>\n",
       "      <td>10</td>\n",
       "      <td>4</td>\n",
       "      <td>1</td>\n",
       "      <td>0</td>\n",
       "      <td>0</td>\n",
       "      <td>0</td>\n",
       "      <td>15</td>\n",
       "      <td>21</td>\n",
       "    </tr>\n",
       "    <tr>\n",
       "      <th>1</th>\n",
       "      <td>1</td>\n",
       "      <td>use_zfO6MmwMKMABup7Fs9E1TzdcfQy</td>\n",
       "      <td>58</td>\n",
       "      <td>9</td>\n",
       "      <td>1</td>\n",
       "      <td>0</td>\n",
       "      <td>16</td>\n",
       "      <td>54</td>\n",
       "      <td>68</td>\n",
       "      <td>518</td>\n",
       "    </tr>\n",
       "    <tr>\n",
       "      <th>2</th>\n",
       "      <td>2</td>\n",
       "      <td>use_ejDjloCwQD84hJpLAAs1TzdfSXa</td>\n",
       "      <td>56</td>\n",
       "      <td>13</td>\n",
       "      <td>1</td>\n",
       "      <td>0</td>\n",
       "      <td>1</td>\n",
       "      <td>4</td>\n",
       "      <td>70</td>\n",
       "      <td>114</td>\n",
       "    </tr>\n",
       "    <tr>\n",
       "      <th>3</th>\n",
       "      <td>3</td>\n",
       "      <td>use_CAJDPBtqY7NfMHkKbYQ1TzdcUuk</td>\n",
       "      <td>39</td>\n",
       "      <td>17</td>\n",
       "      <td>8</td>\n",
       "      <td>0</td>\n",
       "      <td>60</td>\n",
       "      <td>96</td>\n",
       "      <td>64</td>\n",
       "      <td>994</td>\n",
       "    </tr>\n",
       "    <tr>\n",
       "      <th>4</th>\n",
       "      <td>4</td>\n",
       "      <td>use_azRTZAf4XAfhkCMfvQz1TzdppT4</td>\n",
       "      <td>572</td>\n",
       "      <td>10</td>\n",
       "      <td>1</td>\n",
       "      <td>2</td>\n",
       "      <td>0</td>\n",
       "      <td>0</td>\n",
       "      <td>585</td>\n",
       "      <td>603</td>\n",
       "    </tr>\n",
       "  </tbody>\n",
       "</table>\n",
       "</div>"
      ],
      "text/plain": [
       "   Unnamed: 0                           userId  emailOpened  emailClicked  \\\n",
       "0           0  use_bw7Dd2MM9RLPaulrFsQ1TzdmFsi           10             4   \n",
       "1           1  use_zfO6MmwMKMABup7Fs9E1TzdcfQy           58             9   \n",
       "2           2  use_ejDjloCwQD84hJpLAAs1TzdfSXa           56            13   \n",
       "3           3  use_CAJDPBtqY7NfMHkKbYQ1TzdcUuk           39            17   \n",
       "4           4  use_azRTZAf4XAfhkCMfvQz1TzdppT4          572            10   \n",
       "\n",
       "   productReviewed  searchSite  RCAD  RCP  couponRed  score_event  \n",
       "0                1           0     0    0         15           21  \n",
       "1                1           0    16   54         68          518  \n",
       "2                1           0     1    4         70          114  \n",
       "3                8           0    60   96         64          994  \n",
       "4                1           2     0    0        585          603  "
      ]
     },
     "execution_count": 42,
     "metadata": {},
     "output_type": "execute_result"
    }
   ],
   "source": [
    "df_cluster=importation('DS_num_Clustering_Bonus.csv')\n",
    "df_cluster.head()"
   ]
  },
  {
   "cell_type": "code",
   "execution_count": 56,
   "metadata": {},
   "outputs": [],
   "source": [
    "from sklearn.cluster import KMeans\n",
    "\n",
    "# Nombre de clusters souhaités\n",
    "n_clust = 6\n",
    "\n",
    "# import de l'échantillon\n",
    "data = df_cluster.drop('userId',axis=1)\n"
   ]
  },
  {
   "cell_type": "code",
   "execution_count": 57,
   "metadata": {},
   "outputs": [
    {
     "data": {
      "text/plain": [
       "KMeans(n_clusters=3)"
      ]
     },
     "execution_count": 57,
     "metadata": {},
     "output_type": "execute_result"
    }
   ],
   "source": [
    "#Cluster K-means\n",
    "model=KMeans(n_clusters=3)\n",
    "#adapter le modèle de données\n",
    "model.fit(data)"
   ]
  },
  {
   "cell_type": "code",
   "execution_count": 60,
   "metadata": {},
   "outputs": [
    {
     "data": {
      "text/plain": [
       "<matplotlib.collections.PathCollection at 0x1eddb2886a0>"
      ]
     },
     "execution_count": 60,
     "metadata": {},
     "output_type": "execute_result"
    },
    {
     "data": {
      "image/png": "[encoded data removed]",
      "text/plain": [
       "<Figure size 432x288 with 1 Axes>"
      ]
     },
     "metadata": {
      "needs_background": "light"
     },
     "output_type": "display_data"
    }
   ],
   "source": [
    "colormap=np.array(['Red','green','blue'])\n",
    "plt.scatter(data.couponRed, data.emailClicked,c=colormap[model.labels_],s=40)"
   ]
  },
  {
   "cell_type": "code",
   "execution_count": 51,
   "metadata": {},
   "outputs": [
    {
     "data": {
      "text/plain": [
       "<matplotlib.collections.PathCollection at 0x1eddaf7a640>"
      ]
     },
     "execution_count": 51,
     "metadata": {},
     "output_type": "execute_result"
    },
    {
     "data": {
      "image/png": "[encoded data removed]",
      "text/plain": [
       "<Figure size 432x288 with 1 Axes>"
      ]
     },
     "metadata": {
      "needs_background": "light"
     },
     "output_type": "display_data"
    }
   ],
   "source": [
    "colormap=np.array(['Red','green','blue'])\n",
    "plt.scatter(data.emailOpened, data.emailClicked,c=colormap[model.labels_],s=40)"
   ]
  },
  {
   "cell_type": "code",
   "execution_count": 53,
   "metadata": {},
   "outputs": [
    {
     "data": {
      "text/plain": [
       "<matplotlib.collections.PathCollection at 0x1eddb1e92b0>"
      ]
     },
     "execution_count": 53,
     "metadata": {},
     "output_type": "execute_result"
    },
    {
     "data": {
      "image/png": "[encoded data removed]",
      "text/plain": [
       "<Figure size 432x288 with 1 Axes>"
      ]
     },
     "metadata": {
      "needs_background": "light"
     },
     "output_type": "display_data"
    }
   ],
   "source": [
    "colormap=np.array(['Red','green','blue'])\n",
    "plt.scatter(data.emailClicked, data.searchSite,c=colormap[model.labels_],s=40)"
   ]
  },
  {
   "cell_type": "code",
   "execution_count": 55,
   "metadata": {},
   "outputs": [
    {
     "data": {
      "text/plain": [
       "<matplotlib.collections.PathCollection at 0x1eddb048d30>"
      ]
     },
     "execution_count": 55,
     "metadata": {},
     "output_type": "execute_result"
    },
    {
     "data": {
      "image/png": "[encoded data removed]",
      "text/plain": [
       "<Figure size 432x288 with 1 Axes>"
      ]
     },
     "metadata": {
      "needs_background": "light"
     },
     "output_type": "display_data"
    }
   ],
   "source": [
    "colormap=np.array(['Red','green','blue'])\n",
    "plt.scatter(data.searchSite, data.productReviewed,c=colormap[model.labels_],s=40)"
   ]
  },
  {
   "cell_type": "code",
   "execution_count": null,
   "metadata": {},
   "outputs": [],
   "source": []
  }
 ],
 "metadata": {
  "kernelspec": {
   "display_name": "Python 3",
   "language": "python",
   "name": "python3"
  },
  "language_info": {
   "codemirror_mode": {
    "name": "ipython",
    "version": 3
   },
   "file_extension": ".py",
   "mimetype": "text/x-python",
   "name": "python",
   "nbconvert_exporter": "python",
   "pygments_lexer": "ipython3",
   "version": "3.8.3"
  }
 },
 "nbformat": 4,
 "nbformat_minor": 4
}
